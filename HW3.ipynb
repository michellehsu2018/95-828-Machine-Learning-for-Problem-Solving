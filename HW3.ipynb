{
 "cells": [
  {
   "cell_type": "markdown",
   "metadata": {},
   "source": [
    "### 4 Applied: Random Forest "
   ]
  },
  {
   "cell_type": "markdown",
   "metadata": {},
   "source": [
    "####  In this question, we use Random Forest model to predict loan default. Download the data loans.zip from Canvas. The zip file contains two files: loans train.csv and loans test.csv. They have the same format, where the last column is a binary default label (that we aim to predict) and other columns are observational features. The feature names are provided in the header."
   ]
  },
  {
   "cell_type": "code",
   "execution_count": 1,
   "metadata": {
    "collapsed": true
   },
   "outputs": [],
   "source": [
    "import matplotlib.pyplot as plt\n",
    "import numpy as np\n",
    "import pandas as pd\n",
    "import seaborn as sns\n",
    "import os\n",
    "%matplotlib inline\n",
    "import warnings\n",
    "warnings.filterwarnings('ignore')"
   ]
  },
  {
   "cell_type": "code",
   "execution_count": 2,
   "metadata": {
    "collapsed": true
   },
   "outputs": [],
   "source": [
    "#Check for directory before load the data\n",
    "os.getcwd()\n",
    "os.chdir('/Users/michellehsu/Desktop/CMU/Spring 2018/95-828 ML for Problem Solving/HW/HW3/Data/loans')"
   ]
  },
  {
   "cell_type": "code",
   "execution_count": 3,
   "metadata": {
    "collapsed": true
   },
   "outputs": [],
   "source": [
    "#Read the file\n",
    "loans_train = pd.read_csv(\"loans_train.csv\")\n",
    "loans_test = pd.read_csv(\"loans_test.csv\")"
   ]
  },
  {
   "cell_type": "code",
   "execution_count": 4,
   "metadata": {},
   "outputs": [
    {
     "data": {
      "text/html": [
       "<div>\n",
       "<style>\n",
       "    .dataframe thead tr:only-child th {\n",
       "        text-align: right;\n",
       "    }\n",
       "\n",
       "    .dataframe thead th {\n",
       "        text-align: left;\n",
       "    }\n",
       "\n",
       "    .dataframe tbody tr th {\n",
       "        vertical-align: top;\n",
       "    }\n",
       "</style>\n",
       "<table border=\"1\" class=\"dataframe\">\n",
       "  <thead>\n",
       "    <tr style=\"text-align: right;\">\n",
       "      <th></th>\n",
       "      <th>Unnamed: 0</th>\n",
       "      <th>listing_amount</th>\n",
       "      <th>amount_funded</th>\n",
       "      <th>listing_monthly_payment</th>\n",
       "      <th>dti_wprosper_loan</th>\n",
       "      <th>estimated_return</th>\n",
       "      <th>estimated_loss_rate</th>\n",
       "      <th>lender_yield</th>\n",
       "      <th>effective_yield</th>\n",
       "      <th>borrower_rate</th>\n",
       "      <th>...</th>\n",
       "      <th>all901</th>\n",
       "      <th>bac026</th>\n",
       "      <th>bac401</th>\n",
       "      <th>bac403</th>\n",
       "      <th>iln201</th>\n",
       "      <th>ref001</th>\n",
       "      <th>rep002</th>\n",
       "      <th>rev201</th>\n",
       "      <th>all084</th>\n",
       "      <th>default</th>\n",
       "    </tr>\n",
       "  </thead>\n",
       "  <tbody>\n",
       "    <tr>\n",
       "      <th>count</th>\n",
       "      <td>13761.000000</td>\n",
       "      <td>13761.000000</td>\n",
       "      <td>13761.000000</td>\n",
       "      <td>13761.000000</td>\n",
       "      <td>13761.000000</td>\n",
       "      <td>13761.000000</td>\n",
       "      <td>13761.000000</td>\n",
       "      <td>13761.000000</td>\n",
       "      <td>13761.000000</td>\n",
       "      <td>13761.000000</td>\n",
       "      <td>...</td>\n",
       "      <td>13761.000000</td>\n",
       "      <td>13761.000000</td>\n",
       "      <td>13761.000000</td>\n",
       "      <td>13761.000000</td>\n",
       "      <td>13761.000000</td>\n",
       "      <td>13761.000000</td>\n",
       "      <td>13761.000000</td>\n",
       "      <td>1.376100e+04</td>\n",
       "      <td>13761.000000</td>\n",
       "      <td>13761.000000</td>\n",
       "    </tr>\n",
       "    <tr>\n",
       "      <th>mean</th>\n",
       "      <td>10656.360948</td>\n",
       "      <td>6621.831278</td>\n",
       "      <td>6621.831278</td>\n",
       "      <td>236.518779</td>\n",
       "      <td>128.800129</td>\n",
       "      <td>-0.182299</td>\n",
       "      <td>0.175626</td>\n",
       "      <td>0.168568</td>\n",
       "      <td>-0.007073</td>\n",
       "      <td>0.177722</td>\n",
       "      <td>...</td>\n",
       "      <td>80.135165</td>\n",
       "      <td>4.016859</td>\n",
       "      <td>10256.281302</td>\n",
       "      <td>55.720587</td>\n",
       "      <td>19898.683017</td>\n",
       "      <td>1.618487</td>\n",
       "      <td>2.414359</td>\n",
       "      <td>1.664349e+04</td>\n",
       "      <td>2.074486</td>\n",
       "      <td>0.355134</td>\n",
       "    </tr>\n",
       "    <tr>\n",
       "      <th>std</th>\n",
       "      <td>6109.594347</td>\n",
       "      <td>5765.429350</td>\n",
       "      <td>5765.429350</td>\n",
       "      <td>204.131821</td>\n",
       "      <td>1893.395771</td>\n",
       "      <td>0.189268</td>\n",
       "      <td>0.109999</td>\n",
       "      <td>0.072057</td>\n",
       "      <td>0.091256</td>\n",
       "      <td>0.072905</td>\n",
       "      <td>...</td>\n",
       "      <td>20.557030</td>\n",
       "      <td>3.095220</td>\n",
       "      <td>22437.727586</td>\n",
       "      <td>37.122572</td>\n",
       "      <td>26709.234935</td>\n",
       "      <td>2.248886</td>\n",
       "      <td>3.397346</td>\n",
       "      <td>4.049555e+04</td>\n",
       "      <td>3.760573</td>\n",
       "      <td>0.478571</td>\n",
       "    </tr>\n",
       "    <tr>\n",
       "      <th>min</th>\n",
       "      <td>3.000000</td>\n",
       "      <td>1000.000000</td>\n",
       "      <td>1000.000000</td>\n",
       "      <td>27.780000</td>\n",
       "      <td>0.000000</td>\n",
       "      <td>-0.760000</td>\n",
       "      <td>0.006000</td>\n",
       "      <td>-0.010000</td>\n",
       "      <td>-0.380000</td>\n",
       "      <td>0.000000</td>\n",
       "      <td>...</td>\n",
       "      <td>0.000000</td>\n",
       "      <td>0.000000</td>\n",
       "      <td>0.000000</td>\n",
       "      <td>0.000000</td>\n",
       "      <td>0.000000</td>\n",
       "      <td>0.000000</td>\n",
       "      <td>0.000000</td>\n",
       "      <td>0.000000e+00</td>\n",
       "      <td>0.000000</td>\n",
       "      <td>0.000000</td>\n",
       "    </tr>\n",
       "    <tr>\n",
       "      <th>25%</th>\n",
       "      <td>5366.000000</td>\n",
       "      <td>2550.000000</td>\n",
       "      <td>2550.000000</td>\n",
       "      <td>96.110000</td>\n",
       "      <td>0.140000</td>\n",
       "      <td>-0.289100</td>\n",
       "      <td>0.085000</td>\n",
       "      <td>0.115000</td>\n",
       "      <td>-0.055000</td>\n",
       "      <td>0.123500</td>\n",
       "      <td>...</td>\n",
       "      <td>68.000000</td>\n",
       "      <td>2.000000</td>\n",
       "      <td>243.000000</td>\n",
       "      <td>22.000000</td>\n",
       "      <td>2162.000000</td>\n",
       "      <td>0.000000</td>\n",
       "      <td>0.000000</td>\n",
       "      <td>1.259000e+03</td>\n",
       "      <td>0.000000</td>\n",
       "      <td>0.000000</td>\n",
       "    </tr>\n",
       "    <tr>\n",
       "      <th>50%</th>\n",
       "      <td>10718.000000</td>\n",
       "      <td>5000.000000</td>\n",
       "      <td>5000.000000</td>\n",
       "      <td>170.720000</td>\n",
       "      <td>0.210000</td>\n",
       "      <td>-0.150000</td>\n",
       "      <td>0.160000</td>\n",
       "      <td>0.154000</td>\n",
       "      <td>0.009900</td>\n",
       "      <td>0.163000</td>\n",
       "      <td>...</td>\n",
       "      <td>86.000000</td>\n",
       "      <td>3.000000</td>\n",
       "      <td>2212.000000</td>\n",
       "      <td>61.000000</td>\n",
       "      <td>12831.000000</td>\n",
       "      <td>1.000000</td>\n",
       "      <td>1.000000</td>\n",
       "      <td>5.449000e+03</td>\n",
       "      <td>0.000000</td>\n",
       "      <td>0.000000</td>\n",
       "    </tr>\n",
       "    <tr>\n",
       "      <th>75%</th>\n",
       "      <td>15875.000000</td>\n",
       "      <td>8900.000000</td>\n",
       "      <td>8900.000000</td>\n",
       "      <td>308.820000</td>\n",
       "      <td>0.320000</td>\n",
       "      <td>-0.038000</td>\n",
       "      <td>0.235000</td>\n",
       "      <td>0.210000</td>\n",
       "      <td>0.056000</td>\n",
       "      <td>0.220000</td>\n",
       "      <td>...</td>\n",
       "      <td>100.000000</td>\n",
       "      <td>6.000000</td>\n",
       "      <td>9944.000000</td>\n",
       "      <td>88.000000</td>\n",
       "      <td>26775.000000</td>\n",
       "      <td>3.000000</td>\n",
       "      <td>4.000000</td>\n",
       "      <td>1.593600e+04</td>\n",
       "      <td>3.000000</td>\n",
       "      <td>1.000000</td>\n",
       "    </tr>\n",
       "    <tr>\n",
       "      <th>max</th>\n",
       "      <td>21623.000000</td>\n",
       "      <td>25000.000000</td>\n",
       "      <td>25000.000000</td>\n",
       "      <td>1130.900000</td>\n",
       "      <td>72396.400000</td>\n",
       "      <td>0.220000</td>\n",
       "      <td>0.380000</td>\n",
       "      <td>0.340000</td>\n",
       "      <td>0.297700</td>\n",
       "      <td>0.350000</td>\n",
       "      <td>...</td>\n",
       "      <td>100.000000</td>\n",
       "      <td>30.000000</td>\n",
       "      <td>413072.000000</td>\n",
       "      <td>473.000000</td>\n",
       "      <td>729557.000000</td>\n",
       "      <td>48.000000</td>\n",
       "      <td>74.000000</td>\n",
       "      <td>1.435667e+06</td>\n",
       "      <td>83.000000</td>\n",
       "      <td>1.000000</td>\n",
       "    </tr>\n",
       "  </tbody>\n",
       "</table>\n",
       "<p>8 rows × 82 columns</p>\n",
       "</div>"
      ],
      "text/plain": [
       "         Unnamed: 0  listing_amount  amount_funded  listing_monthly_payment  \\\n",
       "count  13761.000000    13761.000000   13761.000000             13761.000000   \n",
       "mean   10656.360948     6621.831278    6621.831278               236.518779   \n",
       "std     6109.594347     5765.429350    5765.429350               204.131821   \n",
       "min        3.000000     1000.000000    1000.000000                27.780000   \n",
       "25%     5366.000000     2550.000000    2550.000000                96.110000   \n",
       "50%    10718.000000     5000.000000    5000.000000               170.720000   \n",
       "75%    15875.000000     8900.000000    8900.000000               308.820000   \n",
       "max    21623.000000    25000.000000   25000.000000              1130.900000   \n",
       "\n",
       "       dti_wprosper_loan  estimated_return  estimated_loss_rate  lender_yield  \\\n",
       "count       13761.000000      13761.000000         13761.000000  13761.000000   \n",
       "mean          128.800129         -0.182299             0.175626      0.168568   \n",
       "std          1893.395771          0.189268             0.109999      0.072057   \n",
       "min             0.000000         -0.760000             0.006000     -0.010000   \n",
       "25%             0.140000         -0.289100             0.085000      0.115000   \n",
       "50%             0.210000         -0.150000             0.160000      0.154000   \n",
       "75%             0.320000         -0.038000             0.235000      0.210000   \n",
       "max         72396.400000          0.220000             0.380000      0.340000   \n",
       "\n",
       "       effective_yield  borrower_rate      ...             all901  \\\n",
       "count     13761.000000   13761.000000      ...       13761.000000   \n",
       "mean         -0.007073       0.177722      ...          80.135165   \n",
       "std           0.091256       0.072905      ...          20.557030   \n",
       "min          -0.380000       0.000000      ...           0.000000   \n",
       "25%          -0.055000       0.123500      ...          68.000000   \n",
       "50%           0.009900       0.163000      ...          86.000000   \n",
       "75%           0.056000       0.220000      ...         100.000000   \n",
       "max           0.297700       0.350000      ...         100.000000   \n",
       "\n",
       "             bac026         bac401        bac403         iln201        ref001  \\\n",
       "count  13761.000000   13761.000000  13761.000000   13761.000000  13761.000000   \n",
       "mean       4.016859   10256.281302     55.720587   19898.683017      1.618487   \n",
       "std        3.095220   22437.727586     37.122572   26709.234935      2.248886   \n",
       "min        0.000000       0.000000      0.000000       0.000000      0.000000   \n",
       "25%        2.000000     243.000000     22.000000    2162.000000      0.000000   \n",
       "50%        3.000000    2212.000000     61.000000   12831.000000      1.000000   \n",
       "75%        6.000000    9944.000000     88.000000   26775.000000      3.000000   \n",
       "max       30.000000  413072.000000    473.000000  729557.000000     48.000000   \n",
       "\n",
       "             rep002        rev201        all084       default  \n",
       "count  13761.000000  1.376100e+04  13761.000000  13761.000000  \n",
       "mean       2.414359  1.664349e+04      2.074486      0.355134  \n",
       "std        3.397346  4.049555e+04      3.760573      0.478571  \n",
       "min        0.000000  0.000000e+00      0.000000      0.000000  \n",
       "25%        0.000000  1.259000e+03      0.000000      0.000000  \n",
       "50%        1.000000  5.449000e+03      0.000000      0.000000  \n",
       "75%        4.000000  1.593600e+04      3.000000      1.000000  \n",
       "max       74.000000  1.435667e+06     83.000000      1.000000  \n",
       "\n",
       "[8 rows x 82 columns]"
      ]
     },
     "execution_count": 4,
     "metadata": {},
     "output_type": "execute_result"
    }
   ],
   "source": [
    "#Data exploration with summary statistics\n",
    "len(loans_train) #train: 13761 rows and 82 columns\n",
    "len(loans_test) #test: 4587 rows and 82 columns\n",
    "loans_train.describe()"
   ]
  },
  {
   "cell_type": "markdown",
   "metadata": {
    "collapsed": true
   },
   "source": [
    "#### 4.1. Fit a Decision Tree model using the training data. Let the tree grow until it is impossible to split (all records in data subset have the same output or the same set of input attributes). Use the model to predict labels for both training data and test data. Report training accuracy and test accuracy. <br>"
   ]
  },
  {
   "cell_type": "code",
   "execution_count": 5,
   "metadata": {
    "collapsed": true
   },
   "outputs": [],
   "source": [
    "from sklearn.tree import DecisionTreeClassifier\n",
    "from sklearn.metrics import confusion_matrix"
   ]
  },
  {
   "cell_type": "code",
   "execution_count": 6,
   "metadata": {
    "collapsed": true
   },
   "outputs": [],
   "source": [
    "dt = DecisionTreeClassifier()\n",
    "dt.fit(loans_train.iloc[:,0:81], loans_train.iloc[:,-1])\n",
    "dt_pred_no_cv = dt.predict(loans_test.iloc[:,0:81])"
   ]
  },
  {
   "cell_type": "code",
   "execution_count": 7,
   "metadata": {},
   "outputs": [
    {
     "name": "stdout",
     "output_type": "stream",
     "text": [
      "Training accuracy is 1.0\n",
      "Testing accuracy is 0.616742969261\n"
     ]
    }
   ],
   "source": [
    "#Training accuracy\n",
    "print('Training accuracy is', dt.score(loans_train.iloc[:,0:81], loans_train.iloc[:,-1]))\n",
    "#Test accuracy\n",
    "dt_cm_no_cv = confusion_matrix(loans_test.iloc[:,-1], dt_pred_no_cv)\n",
    "print('Testing accuracy is', sum(dt_cm_no_cv.diagonal())/dt_cm_no_cv.sum())"
   ]
  },
  {
   "cell_type": "markdown",
   "metadata": {},
   "source": [
    "#### 4.2. Now use grid search cross-validation to determine the maximum depth hyper-parameter. Search over integers from 2 to 10. Fit another Decision Tree model with the optimal maximum depth you find. Report training accuracy and test accuracy."
   ]
  },
  {
   "cell_type": "code",
   "execution_count": 8,
   "metadata": {
    "collapsed": true
   },
   "outputs": [],
   "source": [
    "from sklearn.model_selection import GridSearchCV"
   ]
  },
  {
   "cell_type": "code",
   "execution_count": 9,
   "metadata": {},
   "outputs": [
    {
     "name": "stdout",
     "output_type": "stream",
     "text": [
      "{'max_depth': 4}\n"
     ]
    }
   ],
   "source": [
    "parameters = {'max_depth':range(2,11)}\n",
    "gs = GridSearchCV(DecisionTreeClassifier(), parameters, n_jobs =3)\n",
    "gs.fit(loans_train.iloc[:,0:81], loans_train.iloc[:,-1])\n",
    "print(gs.best_params_) "
   ]
  },
  {
   "cell_type": "code",
   "execution_count": 14,
   "metadata": {},
   "outputs": [
    {
     "name": "stdout",
     "output_type": "stream",
     "text": [
      "Training accuracy with max depth = 4 is 0.696243005596\n",
      "Testing accuracy with max depth = 4 is 0.689339437541\n"
     ]
    }
   ],
   "source": [
    "dt_cv = DecisionTreeClassifier(max_depth = 4)\n",
    "dt_cv.fit(loans_train.iloc[:,0:81], loans_train.iloc[:,-1])\n",
    "dt_pred_cv = dt_cv.predict(loans_test.iloc[:,0:81])\n",
    "#Training accuracy with max depth =4\n",
    "print('Training accuracy with max depth = 4 is', dt_cv.score(loans_train.iloc[:,0:81], loans_train.iloc[:,-1]))\n",
    "#Test accuracy with max depth =4\n",
    "dt_cm_cv = confusion_matrix(loans_test.iloc[:,-1], dt_pred_cv)\n",
    "print('Testing accuracy with max depth = 4 is', sum(dt_cm_cv.diagonal())/dt_cm_cv.sum())"
   ]
  },
  {
   "cell_type": "markdown",
   "metadata": {},
   "source": [
    "#### 4.3. Write a Random Forest model. Specifically, the model should consist of 100 base estimators (trees); randomly choose 20% attributes out of all attributes when building each tree; let each tree grow until it is impossible to split (do not prune). Do NOT use any standard Random Forest package, but you are free to use Decision Tree package. Fit the model on the training data. Report training accuracy and test accuracy. Print your codes for this part."
   ]
  },
  {
   "cell_type": "code",
   "execution_count": 15,
   "metadata": {
    "collapsed": true
   },
   "outputs": [],
   "source": [
    "def random_forest(train, test):\n",
    "    X_test = test.iloc[:,0:81]\n",
    "    y_test = test.iloc[:,-1]\n",
    "    train_result= []\n",
    "    test_result= []\n",
    "    for i in range(100):\n",
    "        #Bootstrap training samples\n",
    "        Z = train.iloc[np.random.randint(len(train), size=len(train))]\n",
    "        X_train = Z.iloc[:,0:81]\n",
    "        y_train = Z.iloc[:,-1]\n",
    "        #Randomly choose 20% attributes\n",
    "        X_subset = X_train.sample(int(81*0.2), axis=1)\n",
    "        X_test_subset = X_test[X_subset.columns]\n",
    "        #Build decision tree and make prediction\n",
    "        rf = DecisionTreeClassifier()\n",
    "        rf.fit(X_subset, y_train)\n",
    "        #Use the original data with 20% attributes selected in the previous step to make predition\n",
    "        train_pred = rf.predict(train[X_subset.columns])\n",
    "        test_pred = rf.predict(X_test_subset)\n",
    "        train_result.append(train_pred)\n",
    "        test_result.append(test_pred)\n",
    "    train_result = np.array(train_result)\n",
    "    test_result = np.array(test_result)\n",
    "    return train_result, test_result"
   ]
  },
  {
   "cell_type": "code",
   "execution_count": 30,
   "metadata": {
    "collapsed": true
   },
   "outputs": [],
   "source": [
    "#Run the random forest function to get the prediction \n",
    "train_result, test_result = random_forest(loans_train, loans_test)\n",
    "#Calculate final result by majority vote\n",
    "train_pred_mj = []\n",
    "test_pred_mj = []\n",
    "#Majority vote for training samples\n",
    "for i in range(len(train_result.T)):\n",
    "    counts = np.bincount(train_result[0:100,i])\n",
    "    train_pred_mj.append(np.argmax(counts))\n",
    "#Majority vote for test samples\n",
    "for i in range(len(test_result.T)):\n",
    "    counts = np.bincount(test_result[0:100,i])\n",
    "    test_pred_mj.append(np.argmax(counts))"
   ]
  },
  {
   "cell_type": "code",
   "execution_count": 31,
   "metadata": {
    "scrolled": true
   },
   "outputs": [
    {
     "name": "stdout",
     "output_type": "stream",
     "text": [
      "Training accuracy of 100 decision trees is 1.0\n",
      "Testing accuracy of 100 decision trees is 0.696751689557\n"
     ]
    }
   ],
   "source": [
    "#Training accuracy of 100 decision trees\n",
    "rf_cm_train = confusion_matrix(loans_train.iloc[:,-1], train_pred_mj)\n",
    "print('Training accuracy of 100 decision trees is', sum(rf_cm_train.diagonal())/rf_cm_train.sum())\n",
    "#Test accuracy of 100 decision trees\n",
    "rf_cm_test = confusion_matrix(loans_test.iloc[:,-1], test_pred_mj)\n",
    "print('Testing accuracy of 100 decision trees is', sum(rf_cm_test.diagonal())/rf_cm_test.sum())"
   ]
  },
  {
   "cell_type": "markdown",
   "metadata": {},
   "source": [
    "```Python\n",
    "def random_forest(train, test):\n",
    "    X_test = test.iloc[:,0:81]\n",
    "    y_test = test.iloc[:,-1]\n",
    "    train_result= []\n",
    "    test_result= []\n",
    "    for i in range(100):\n",
    "        #Bootstrap training samples\n",
    "        Z = train.iloc[np.random.randint(len(train), size=len(train))]\n",
    "        X_train = Z.iloc[:,0:81]\n",
    "        y_train = Z.iloc[:,-1]\n",
    "        #Randomly choose 20% attributes\n",
    "        X_subset = X_train.sample(int(81*0.2), axis=1)\n",
    "        X_test_subset = X_test[X_subset.columns]\n",
    "        #Build decision tree and make prediction\n",
    "        rf = DecisionTreeClassifier()\n",
    "        rf.fit(X_subset, y_train)\n",
    "        #Use the original data with 20% attributes selected in the previous step to make predition\n",
    "        train_pred = rf.predict(train[X_subset.columns])\n",
    "        test_pred = rf.predict(X_test_subset)\n",
    "        train_result.append(train_pred)\n",
    "        test_result.append(test_pred)\n",
    "    train_result = np.array(train_result)\n",
    "    test_result = np.array(test_result)\n",
    "    return train_result, test_result\n",
    "```"
   ]
  },
  {
   "cell_type": "markdown",
   "metadata": {},
   "source": [
    "```Python\n",
    "#Run the ranfom forest function to get the prediction \n",
    "train_result, test_result = random_forest(loans_train, loans_test)\n",
    "#Calculate final result by majority vote\n",
    "train_pred_mj = []\n",
    "test_pred_mj = []\n",
    "#Majority vote for training samples\n",
    "for i in range(len(train_result.T)):\n",
    "    counts = np.bincount(train_result[0:100,i])\n",
    "    train_pred_mj.append(np.argmax(counts))\n",
    "#Majority vote for test samples\n",
    "for i in range(len(test_result.T)):\n",
    "    counts = np.bincount(test_result[0:100,i])\n",
    "    test_pred_mj.append(np.argmax(counts))\n",
    "```"
   ]
  },
  {
   "cell_type": "markdown",
   "metadata": {},
   "source": [
    "```Python\n",
    "#Training accuracy of 100 decision trees\n",
    "rf_cm_train = confusion_matrix(loans_train.iloc[:,-1], train_pred_mj)\n",
    "print('Training accuracy of 100 decision trees is', sum(rf_cm_train.diagonal())/rf_cm_train.sum())\n",
    "#Test accuracy of 100 decision trees\n",
    "rf_cm_test = confusion_matrix(loans_test.iloc[:,-1], test_pred_mj)\n",
    "print('Testing accuracy of 100 decision trees is', sum(rf_cm_test.diagonal())/rf_cm_test.sum())\n",
    "```"
   ]
  },
  {
   "cell_type": "markdown",
   "metadata": {},
   "source": [
    "#### 4.4. Again, find the optimal maximum depth (search through 2 to 10) for the random forest model using grid search cross-validation. What is the optimal maximum depth? How does it compare to the optimal maximum depth in Decision Tree? Fit another Random Forest model with the optimal maximum depth. Report training accuracy and test accuracy."
   ]
  },
  {
   "cell_type": "code",
   "execution_count": 22,
   "metadata": {
    "scrolled": true
   },
   "outputs": [
    {
     "name": "stdout",
     "output_type": "stream",
     "text": [
      "{'max_depth': 10}\n"
     ]
    }
   ],
   "source": [
    "parameters = {'max_depth':range(2,11)}\n",
    "gs_rf = GridSearchCV(DecisionTreeClassifier(), parameters, n_jobs =-1)\n",
    "X_test = loans_test.iloc[:,0:81]\n",
    "y_test = loans_test.iloc[:,-1]\n",
    "for i in range(100):\n",
    "    #Bootstrap training samples\n",
    "    Z = loans_train.iloc[np.random.randint(len(loans_train), size=len(loans_train))]\n",
    "    X_train = Z.iloc[:,0:81]\n",
    "    y_train = Z.iloc[:,-1]\n",
    "    #Randomly choose 20% attributes\n",
    "    X_subset = X_train.sample(int(81*0.2), axis=1)\n",
    "    X_test_subset = X_test[X_subset.columns]\n",
    "    #Build decision tree with grid search for optimal maximum depth\n",
    "    gs_rf.fit(X_subset, y_train)\n",
    "print(gs_rf.best_params_) "
   ]
  },
  {
   "cell_type": "code",
   "execution_count": 23,
   "metadata": {
    "collapsed": true
   },
   "outputs": [],
   "source": [
    "#Construct new random forest function with optimal depth of 10\n",
    "def random_forest_depth_10(train, test):\n",
    "    X_test = test.iloc[:,0:81]\n",
    "    y_test = test.iloc[:,-1]\n",
    "    train_result= []\n",
    "    test_result= []\n",
    "    for i in range(100):\n",
    "        #Bootstrap training samples\n",
    "        Z = train.iloc[np.random.randint(len(train), size=len(train))]\n",
    "        X_train = Z.iloc[:,0:81]\n",
    "        y_train = Z.iloc[:,-1]\n",
    "        #Randomly choose 20% attributes\n",
    "        X_subset = X_train.sample(int(81*0.2), axis=1)\n",
    "        X_test_subset = X_test[X_subset.columns]\n",
    "        #Build decision tree and make prediction\n",
    "        rf = DecisionTreeClassifier(max_depth = 10)\n",
    "        rf.fit(X_subset, y_train)\n",
    "        #Use the original data with 20% attributes selected in the previous step to make predition\n",
    "        train_pred = rf.predict(train[X_subset.columns])\n",
    "        test_pred = rf.predict(X_test_subset)\n",
    "        train_result.append(train_pred)\n",
    "        test_result.append(test_pred)\n",
    "    train_result = np.array(train_result)\n",
    "    test_result = np.array(test_result)\n",
    "    return train_result, test_result"
   ]
  },
  {
   "cell_type": "code",
   "execution_count": 26,
   "metadata": {
    "collapsed": true
   },
   "outputs": [],
   "source": [
    "train_result_gs, test_result_gs = random_forest_depth_10(loans_train, loans_test)\n",
    "train_pred_mj_gs = []\n",
    "test_pred_mj_gs = []\n",
    "#Majority vote for training samples\n",
    "for i in range(len(train_result_gs.T)):\n",
    "    counts = np.bincount(train_result_gs[0:100,i])\n",
    "    train_pred_mj_gs.append(np.argmax(counts))\n",
    "#Majority vote for test samples\n",
    "for i in range(len(test_result_gs.T)):\n",
    "    counts = np.bincount(test_result_gs[0:100,i])\n",
    "    test_pred_mj_gs.append(np.argmax(counts))"
   ]
  },
  {
   "cell_type": "code",
   "execution_count": 27,
   "metadata": {},
   "outputs": [
    {
     "name": "stdout",
     "output_type": "stream",
     "text": [
      "Training accuracy of 100 decision trees of depth 10 is 0.778722476564\n",
      "Testing accuracy of 100 decision trees of depth 10 is 0.701983867451\n"
     ]
    }
   ],
   "source": [
    "#Training accuracy of 100 decision trees of depth = 10\n",
    "rf_cm_train_gs = confusion_matrix(loans_train.iloc[:,-1], train_pred_mj_gs)\n",
    "print('Training accuracy of 100 decision trees of depth 10 is', sum(rf_cm_train_gs.diagonal())/rf_cm_train_gs.sum())\n",
    "#Test accuracy of 100 decision trees of depth = 10\n",
    "rf_cm_test_gs = confusion_matrix(y_test, test_pred_mj_gs)\n",
    "print('Testing accuracy of 100 decision trees of depth 10 is', sum(rf_cm_test_gs.diagonal())/rf_cm_test_gs.sum())"
   ]
  },
  {
   "cell_type": "markdown",
   "metadata": {},
   "source": [
    "#### 4.5.Does the Random Forest model outperform the Decision Tree model? Explain why from the perspective of bias-variance trade-off."
   ]
  },
  {
   "cell_type": "markdown",
   "metadata": {},
   "source": [
    "In terms of the accuracy, random forest model outperformed the decision tree model. In the random forest model, the algorithm fed on fewer instances due to bootstrap sampling. Since each individual tree fully grown in the random forest model, the bias is low and the variance is high. By adopting majority vote method, we can reduce variance to certain degree. On the other hand, the decision tree model only used 1 tree with more data points. Hence, the bias will be higher than random forest model."
   ]
  },
  {
   "cell_type": "markdown",
   "metadata": {},
   "source": [
    "#### 4.6. What is the main difference between Random Forest and Bagging Tree? When does Random Forest perform better?"
   ]
  },
  {
   "cell_type": "markdown",
   "metadata": {},
   "source": [
    "The main difference between random forest and bagging tree is the number of features used. In random forest, each individual tree is constructed using only a randomly chosen subset of features, whereas bagging tree is built using all of the features. Random forest outperforms the bagging tree whene there are correlated predictors. Random forest reduces the correlation between weak learners by randomly selecting features to split on so that the variance can decrease."
   ]
  },
  {
   "cell_type": "markdown",
   "metadata": {},
   "source": [
    "----------"
   ]
  },
  {
   "cell_type": "markdown",
   "metadata": {},
   "source": [
    "### 5 Kernel Regression and LWR"
   ]
  },
  {
   "cell_type": "markdown",
   "metadata": {},
   "source": [
    "#### In this question, we implement Kernel Regression and Locally-Weighted Regression from scratch. Do NOT use any existing kernel regression or linear regression packages. You are free to use standard packages for probability distribution and linear algebra."
   ]
  },
  {
   "cell_type": "markdown",
   "metadata": {},
   "source": [
    "#### 5.1. Load the data. Shuffle the data and split it into 75% training data and 25% test data."
   ]
  },
  {
   "cell_type": "code",
   "execution_count": 32,
   "metadata": {
    "collapsed": true
   },
   "outputs": [],
   "source": [
    "#Check for directory before load the data\n",
    "os.getcwd()\n",
    "os.chdir('/Users/michellehsu/Desktop/CMU/Spring 2018/95-828 ML for Problem Solving/HW/HW3/Data')"
   ]
  },
  {
   "cell_type": "code",
   "execution_count": 34,
   "metadata": {
    "scrolled": true
   },
   "outputs": [],
   "source": [
    "#Read the file\n",
    "kernel_data = pd.read_csv(\"kernel_reg_data.csv\")\n",
    "#Shuffle the data\n",
    "kernel_data = kernel_data.iloc[np.random.permutation(len(kernel_data))]\n",
    "#Split the data into 75% training data and 25% test data\n",
    "from sklearn.cross_validation import train_test_split\n",
    "X_train, X_test, y_train, y_test = train_test_split(kernel_data['x'], kernel_data['y'], test_size=0.25)"
   ]
  },
  {
   "cell_type": "markdown",
   "metadata": {},
   "source": [
    "#### 5.2. Here we use a Gaussian kernel in Nadaraya-Watson Kernel Estimator. First, write a function to calculate weights. The function takes (at least) two parameters: target feature(i.e. X0) and kernel width h. It returns a vector of weights (wi, i = 1, ...n) defined above. Print your codes for this part."
   ]
  },
  {
   "cell_type": "code",
   "execution_count": 35,
   "metadata": {
    "collapsed": true
   },
   "outputs": [],
   "source": [
    "import math"
   ]
  },
  {
   "cell_type": "code",
   "execution_count": 36,
   "metadata": {
    "collapsed": true
   },
   "outputs": [],
   "source": [
    "def Gaussian_weight(target, width):\n",
    "    weight = []\n",
    "    sum_k = 0\n",
    "    for i in X_train:\n",
    "        x = (target - i)/width\n",
    "        k = (1/math.sqrt(math.pi))*math.e**(-(x**2)/2)\n",
    "        sum_k += k\n",
    "        weight.append(k)\n",
    "    weight = weight/sum_k\n",
    "    return weight"
   ]
  },
  {
   "cell_type": "markdown",
   "metadata": {},
   "source": [
    "```Python\n",
    "def Gaussian_weight(target, width):\n",
    "    weight = []\n",
    "    sum_k = 0\n",
    "    for i in X_train:\n",
    "        x = (targer - i)/width\n",
    "        k = (1/math.sqrt(math.pi))*math.e**(-(x**2)/2)\n",
    "        sum_k += k\n",
    "        weight.append(k)\n",
    "    weight = weight/sum_k\n",
    "    return weight\n",
    "```"
   ]
  },
  {
   "cell_type": "markdown",
   "metadata": {},
   "source": [
    "#### 5.3. Next, predict y in the test data using Nadaraya-Watson Kernel Estimator (fitted with the training data) with h = 1. Report Mean Absolute Error of your predictions. Print your codes for this part."
   ]
  },
  {
   "cell_type": "code",
   "execution_count": 40,
   "metadata": {
    "collapsed": true,
    "scrolled": true
   },
   "outputs": [],
   "source": [
    "pred_f = []\n",
    "y_train_reset = y_train.reset_index()\n",
    "for i in X_test.index: \n",
    "    f = 0\n",
    "    w = Gaussian_weight(X_test[i],1)\n",
    "    for j in range(len(y_train)):\n",
    "        f += w[j]*y_train_reset.iloc[j]['y']\n",
    "    pred_f.append((i,f))"
   ]
  },
  {
   "cell_type": "code",
   "execution_count": 41,
   "metadata": {
    "collapsed": true
   },
   "outputs": [],
   "source": [
    "d = dict(pred_f)\n",
    "diff = []\n",
    "for i in y_test.index:\n",
    "    diff.append(abs(d[i]-y_test[i]))"
   ]
  },
  {
   "cell_type": "markdown",
   "metadata": {},
   "source": [
    "```Python\n",
    "pred_f = []\n",
    "y_train_reset = y_train.reset_index()\n",
    "for i in X_test.index: \n",
    "    f = 0\n",
    "    w = Gaussian_weight(X_test[i],1)\n",
    "    for j in range(len(y_train)):\n",
    "        f += w[j]*y_train_reset.iloc[j]['y']\n",
    "    pred_f.append((i,f))\n",
    "    \n",
    "d = dict(pred_f)\n",
    "diff = []\n",
    "for i in y_test.index:\n",
    "    diff.append(abs(d[i]-y_test[i]))\n",
    "\n",
    "print('The mean absolute error is', sum(diff)/len(y_test))\n",
    "```"
   ]
  },
  {
   "cell_type": "code",
   "execution_count": 42,
   "metadata": {
    "scrolled": false
   },
   "outputs": [
    {
     "name": "stdout",
     "output_type": "stream",
     "text": [
      "The mean absolute error is 85.0761980325\n"
     ]
    }
   ],
   "source": [
    "print('The mean absolute error is',sum(diff)/len(y_test))"
   ]
  },
  {
   "cell_type": "markdown",
   "metadata": {},
   "source": [
    "#### 5.4. We then move to Locally-Weighted Regression. For each target point X0, we fit a weighted least squares regression using weights calculated by the function in 2), and the estimate is the fitted value at X0. Write a function that takes (at least) two(2) parameters: target features(i.e. X0) and kernel width h, and returns the LWR estimate. Predict y in the test data using your LWR function (fitted with the training data) with h = 1. Report Mean Absolute Error of your predictions. Do NOT use any linear regression or WLS packages. Use the above closed form solution for WLS. Print your codes for this part."
   ]
  },
  {
   "cell_type": "code",
   "execution_count": 43,
   "metadata": {
    "collapsed": true
   },
   "outputs": [],
   "source": [
    "def LWR(target, width):\n",
    "    weight = Gaussian_weight(target, width)\n",
    "    diag_weight = np.diag(weight)\n",
    "    X_array = np.c_[np.ones(750), np.array(X_train)]\n",
    "    y_array = np.array(y_train)\n",
    "    temp = np.dot(X_array.T, diag_weight).dot(X_array)\n",
    "    beta = np.dot(np.linalg.inv(temp), X_array.T).dot(diag_weight).dot(y_array)\n",
    "    pred = beta[0]+target*beta[1]\n",
    "    return pred"
   ]
  },
  {
   "cell_type": "code",
   "execution_count": 44,
   "metadata": {},
   "outputs": [],
   "source": [
    "LWR_pred = []\n",
    "for i in X_test.index: \n",
    "    pred = LWR(X_test[i],1)\n",
    "    LWR_pred.append((i,pred))"
   ]
  },
  {
   "cell_type": "code",
   "execution_count": 45,
   "metadata": {},
   "outputs": [],
   "source": [
    "d_LWR = dict(LWR_pred)\n",
    "diff_LWR = []\n",
    "for i in y_test.index:\n",
    "    diff_LWR.append(abs(d_LWR[i]-y_test[i]))"
   ]
  },
  {
   "cell_type": "markdown",
   "metadata": {},
   "source": [
    "```Python\n",
    "def LWR(target, width):\n",
    "    weight = Gaussian_weight(target, width)\n",
    "    diag_weight = np.diag(weight)\n",
    "    X_array = np.c_[np.ones(750), np.array(X_train)]\n",
    "    y_array = np.array(y_train)\n",
    "    temp = np.dot(X_array.T, diag_weight).dot(X_array)\n",
    "    beta = np.dot(np.linalg.inv(temp), X_array.T).dot(diag_weight).dot(y_array)\n",
    "    pred = beta[0]+target*beta[1]\n",
    "    return pred\n",
    "```"
   ]
  },
  {
   "cell_type": "markdown",
   "metadata": {},
   "source": [
    "```Python\n",
    "LWR_pred = []\n",
    "for i in X_test.index: \n",
    "    pred = LWR(X_test[i],1)\n",
    "    LWR_pred.append((i,pred))\n",
    "```"
   ]
  },
  {
   "cell_type": "markdown",
   "metadata": {},
   "source": [
    "```Python\n",
    "d_LWR = dict(LWR_pred)\n",
    "diff_LWR = []\n",
    "for i in y_test.index:\n",
    "    diff_LWR.append(abs(d_LWR[i]-y_test[i]))\n",
    "```"
   ]
  },
  {
   "cell_type": "code",
   "execution_count": 46,
   "metadata": {
    "scrolled": true
   },
   "outputs": [
    {
     "name": "stdout",
     "output_type": "stream",
     "text": [
      "The mean absolute error of LWR is 82.9962246663\n"
     ]
    }
   ],
   "source": [
    "print('The mean absolute error of LWR is',sum(diff_LWR)/len(y_test))"
   ]
  },
  {
   "cell_type": "markdown",
   "metadata": {},
   "source": [
    "```Python\n",
    "print('The mean absolute error of LWR is',sum(diff_LWR)/len(y_test))\n",
    "```"
   ]
  },
  {
   "cell_type": "markdown",
   "metadata": {},
   "source": [
    "#### 5.5. Plot of your prediction in 4) with the true data points. (The x-axis is x, the y-axis is y, and use different colors for predicted points and true points.)"
   ]
  },
  {
   "cell_type": "code",
   "execution_count": 47,
   "metadata": {},
   "outputs": [],
   "source": [
    "LWR_Series = list(zip(*LWR_pred))\n",
    "predicted = pd.Series(LWR_Series[1], index = LWR_Series[0])"
   ]
  },
  {
   "cell_type": "code",
   "execution_count": 48,
   "metadata": {},
   "outputs": [
    {
     "data": {
      "image/png": "[encoded data removed]",
      "text/plain": [
       "<matplotlib.figure.Figure at 0x1a0a273710>"
      ]
     },
     "metadata": {},
     "output_type": "display_data"
    }
   ],
   "source": [
    "plt.scatter(X_test, y_test, label = \"actual data\")\n",
    "plt.scatter(X_test, predicted, label = \"predicted\")\n",
    "plt.legend()\n",
    "plt.show()"
   ]
  },
  {
   "cell_type": "markdown",
   "metadata": {},
   "source": [
    "#### 5.6. Predict y in the test data using your LWR function (fitted with the training data) with h = 10. Report Mean Absolute Error of your predictions, and plot your prediction with the true data points."
   ]
  },
  {
   "cell_type": "code",
   "execution_count": 49,
   "metadata": {},
   "outputs": [
    {
     "name": "stdout",
     "output_type": "stream",
     "text": [
      "The mean absolute error of LWR with width of 10 is 161.690131765\n"
     ]
    }
   ],
   "source": [
    "LWR_pred_10 = []\n",
    "for i in X_test.index: \n",
    "    pred = LWR(X_test[i],10)\n",
    "    LWR_pred_10.append((i,pred))\n",
    "#Calculate the Mean absolute Error with width of 10\n",
    "d_LWR_10 = dict(LWR_pred_10)\n",
    "diff_LWR_10 = []\n",
    "for i in y_test.index:\n",
    "    diff_LWR_10.append(abs(d_LWR_10[i]-y_test[i]))\n",
    "print('The mean absolute error of LWR with width of 10 is',sum(diff_LWR_10)/len(y_test))"
   ]
  },
  {
   "cell_type": "code",
   "execution_count": 50,
   "metadata": {},
   "outputs": [
    {
     "data": {
      "image/png": "[encoded data removed]",
      "text/plain": [
       "<matplotlib.figure.Figure at 0x1a0aef80b8>"
      ]
     },
     "metadata": {},
     "output_type": "display_data"
    }
   ],
   "source": [
    "LWR_Series_10 = list(zip(*LWR_pred_10))\n",
    "predicted_10 = pd.Series(LWR_Series_10[1], index = LWR_Series_10[0])\n",
    "plt.scatter(X_test, y_test, label = \"actual data\")\n",
    "plt.scatter(X_test, predicted_10, label = \"predicted with width of 10\")\n",
    "plt.legend()\n",
    "plt.show()"
   ]
  },
  {
   "cell_type": "markdown",
   "metadata": {},
   "source": [
    "#### 5.7. Predict y in the test data using your LWR function (fitted with the training data) with h = 0.1. Report Mean Absolute Error of your predictions, and plot your prediction with the true data points."
   ]
  },
  {
   "cell_type": "code",
   "execution_count": 51,
   "metadata": {},
   "outputs": [
    {
     "name": "stdout",
     "output_type": "stream",
     "text": [
      "The mean absolute error of LWR with width of 0.1 is 84.4888028219\n"
     ]
    }
   ],
   "source": [
    "LWR_pred_0 = []\n",
    "for i in X_test.index: \n",
    "    pred = LWR(X_test[i],0.1)\n",
    "    LWR_pred_0.append((i,pred))\n",
    "#Calculate the Mean absolute Error with width of 0.1\n",
    "d_LWR_0 = dict(LWR_pred_0)\n",
    "diff_LWR_0 = []\n",
    "for i in y_test.index:\n",
    "    diff_LWR_0.append(abs(d_LWR_0[i]-y_test[i]))\n",
    "print('The mean absolute error of LWR with width of 0.1 is',sum(diff_LWR_0)/len(y_test))"
   ]
  },
  {
   "cell_type": "code",
   "execution_count": 52,
   "metadata": {},
   "outputs": [
    {
     "data": {
      "image/png": "[encoded data removed]",
      "text/plain": [
       "<matplotlib.figure.Figure at 0x1a0a68db70>"
      ]
     },
     "metadata": {},
     "output_type": "display_data"
    }
   ],
   "source": [
    "LWR_Series_0 = list(zip(*LWR_pred_0))\n",
    "predicted_0 = pd.Series(LWR_Series_0[1], index = LWR_Series_0[0])\n",
    "plt.scatter(X_test, y_test, label = \"actual data\")\n",
    "plt.scatter(X_test, predicted_0, label = \"predicted with width of 0.1\")\n",
    "plt.legend()\n",
    "plt.show()"
   ]
  },
  {
   "cell_type": "markdown",
   "metadata": {},
   "source": [
    "#### 5.8. What can you conclude about kernel width from the above exercises?"
   ]
  },
  {
   "cell_type": "markdown",
   "metadata": {
    "collapsed": true
   },
   "source": [
    "From the above analysis, a kernel width that is too big (i.e, 10) or too small (i.e, 0.1) won't do a good job on capturing the trend of the underlying data. A large kernel width will include points that are not close to the target and use them to calculate the local linear regression, which is fitting the noise. A small kernel width will exclude some near, but not near enough, points that represent the trend of the data. Therefore, the local linear regression will only rely on very near points, which might harm the prediction power."
   ]
  }
 ],
 "metadata": {
  "kernelspec": {
   "display_name": "Python 3",
   "language": "python",
   "name": "python3"
  },
  "language_info": {
   "codemirror_mode": {
    "name": "ipython",
    "version": 3
   },
   "file_extension": ".py",
   "mimetype": "text/x-python",
   "name": "python",
   "nbconvert_exporter": "python",
   "pygments_lexer": "ipython3",
   "version": "3.6.3"
  }
 },
 "nbformat": 4,
 "nbformat_minor": 2
}
