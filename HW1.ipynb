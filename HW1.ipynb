{
 "cells": [
  {
   "cell_type": "markdown",
   "metadata": {},
   "source": [
    "# MLPS HW1 Michelle Hsu; mhsu1"
   ]
  },
  {
   "cell_type": "code",
   "execution_count": 2,
   "metadata": {
    "collapsed": true
   },
   "outputs": [],
   "source": [
    "import pandas as pd\n",
    "import numpy as np\n",
    "import os\n",
    "from matplotlib import pyplot as plt\n",
    "import seaborn as sns\n",
    "sns.set_style('darkgrid')\n",
    "%matplotlib inline\n",
    "import warnings\n",
    "warnings.filterwarnings('ignore')\n",
    "import scipy.stats as st\n",
    "from random import shuffle"
   ]
  },
  {
   "cell_type": "code",
   "execution_count": 3,
   "metadata": {},
   "outputs": [
    {
     "data": {
      "text/plain": [
       "'/Users/michellehsu/Desktop/CMU/Spring 2018/95-828 ML for Problem Solving/Assignment/HW1/submit_hw1'"
      ]
     },
     "execution_count": 3,
     "metadata": {},
     "output_type": "execute_result"
    }
   ],
   "source": [
    "os.getcwd()"
   ]
  },
  {
   "cell_type": "code",
   "execution_count": 4,
   "metadata": {},
   "outputs": [
    {
     "ename": "FileNotFoundError",
     "evalue": "File b'termination.csv' does not exist",
     "output_type": "error",
     "traceback": [
      "\u001b[0;31m---------------------------------------------------------------------------\u001b[0m",
      "\u001b[0;31mFileNotFoundError\u001b[0m                         Traceback (most recent call last)",
      "\u001b[0;32m<ipython-input-4-5f59a02f8039>\u001b[0m in \u001b[0;36m<module>\u001b[0;34m()\u001b[0m\n\u001b[0;32m----> 1\u001b[0;31m \u001b[0memp\u001b[0m \u001b[0;34m=\u001b[0m \u001b[0mpd\u001b[0m\u001b[0;34m.\u001b[0m\u001b[0mread_csv\u001b[0m\u001b[0;34m(\u001b[0m\u001b[0;34m\"termination.csv\"\u001b[0m\u001b[0;34m)\u001b[0m\u001b[0;34m\u001b[0m\u001b[0m\n\u001b[0m",
      "\u001b[0;32m~/anaconda3/lib/python3.6/site-packages/pandas/io/parsers.py\u001b[0m in \u001b[0;36mparser_f\u001b[0;34m(filepath_or_buffer, sep, delimiter, header, names, index_col, usecols, squeeze, prefix, mangle_dupe_cols, dtype, engine, converters, true_values, false_values, skipinitialspace, skiprows, nrows, na_values, keep_default_na, na_filter, verbose, skip_blank_lines, parse_dates, infer_datetime_format, keep_date_col, date_parser, dayfirst, iterator, chunksize, compression, thousands, decimal, lineterminator, quotechar, quoting, escapechar, comment, encoding, dialect, tupleize_cols, error_bad_lines, warn_bad_lines, skipfooter, skip_footer, doublequote, delim_whitespace, as_recarray, compact_ints, use_unsigned, low_memory, buffer_lines, memory_map, float_precision)\u001b[0m\n\u001b[1;32m    653\u001b[0m                     skip_blank_lines=skip_blank_lines)\n\u001b[1;32m    654\u001b[0m \u001b[0;34m\u001b[0m\u001b[0m\n\u001b[0;32m--> 655\u001b[0;31m         \u001b[0;32mreturn\u001b[0m \u001b[0m_read\u001b[0m\u001b[0;34m(\u001b[0m\u001b[0mfilepath_or_buffer\u001b[0m\u001b[0;34m,\u001b[0m \u001b[0mkwds\u001b[0m\u001b[0;34m)\u001b[0m\u001b[0;34m\u001b[0m\u001b[0m\n\u001b[0m\u001b[1;32m    656\u001b[0m \u001b[0;34m\u001b[0m\u001b[0m\n\u001b[1;32m    657\u001b[0m     \u001b[0mparser_f\u001b[0m\u001b[0;34m.\u001b[0m\u001b[0m__name__\u001b[0m \u001b[0;34m=\u001b[0m \u001b[0mname\u001b[0m\u001b[0;34m\u001b[0m\u001b[0m\n",
      "\u001b[0;32m~/anaconda3/lib/python3.6/site-packages/pandas/io/parsers.py\u001b[0m in \u001b[0;36m_read\u001b[0;34m(filepath_or_buffer, kwds)\u001b[0m\n\u001b[1;32m    403\u001b[0m \u001b[0;34m\u001b[0m\u001b[0m\n\u001b[1;32m    404\u001b[0m     \u001b[0;31m# Create the parser.\u001b[0m\u001b[0;34m\u001b[0m\u001b[0;34m\u001b[0m\u001b[0m\n\u001b[0;32m--> 405\u001b[0;31m     \u001b[0mparser\u001b[0m \u001b[0;34m=\u001b[0m \u001b[0mTextFileReader\u001b[0m\u001b[0;34m(\u001b[0m\u001b[0mfilepath_or_buffer\u001b[0m\u001b[0;34m,\u001b[0m \u001b[0;34m**\u001b[0m\u001b[0mkwds\u001b[0m\u001b[0;34m)\u001b[0m\u001b[0;34m\u001b[0m\u001b[0m\n\u001b[0m\u001b[1;32m    406\u001b[0m \u001b[0;34m\u001b[0m\u001b[0m\n\u001b[1;32m    407\u001b[0m     \u001b[0;32mif\u001b[0m \u001b[0mchunksize\u001b[0m \u001b[0;32mor\u001b[0m \u001b[0miterator\u001b[0m\u001b[0;34m:\u001b[0m\u001b[0;34m\u001b[0m\u001b[0m\n",
      "\u001b[0;32m~/anaconda3/lib/python3.6/site-packages/pandas/io/parsers.py\u001b[0m in \u001b[0;36m__init__\u001b[0;34m(self, f, engine, **kwds)\u001b[0m\n\u001b[1;32m    762\u001b[0m             \u001b[0mself\u001b[0m\u001b[0;34m.\u001b[0m\u001b[0moptions\u001b[0m\u001b[0;34m[\u001b[0m\u001b[0;34m'has_index_names'\u001b[0m\u001b[0;34m]\u001b[0m \u001b[0;34m=\u001b[0m \u001b[0mkwds\u001b[0m\u001b[0;34m[\u001b[0m\u001b[0;34m'has_index_names'\u001b[0m\u001b[0;34m]\u001b[0m\u001b[0;34m\u001b[0m\u001b[0m\n\u001b[1;32m    763\u001b[0m \u001b[0;34m\u001b[0m\u001b[0m\n\u001b[0;32m--> 764\u001b[0;31m         \u001b[0mself\u001b[0m\u001b[0;34m.\u001b[0m\u001b[0m_make_engine\u001b[0m\u001b[0;34m(\u001b[0m\u001b[0mself\u001b[0m\u001b[0;34m.\u001b[0m\u001b[0mengine\u001b[0m\u001b[0;34m)\u001b[0m\u001b[0;34m\u001b[0m\u001b[0m\n\u001b[0m\u001b[1;32m    765\u001b[0m \u001b[0;34m\u001b[0m\u001b[0m\n\u001b[1;32m    766\u001b[0m     \u001b[0;32mdef\u001b[0m \u001b[0mclose\u001b[0m\u001b[0;34m(\u001b[0m\u001b[0mself\u001b[0m\u001b[0;34m)\u001b[0m\u001b[0;34m:\u001b[0m\u001b[0;34m\u001b[0m\u001b[0m\n",
      "\u001b[0;32m~/anaconda3/lib/python3.6/site-packages/pandas/io/parsers.py\u001b[0m in \u001b[0;36m_make_engine\u001b[0;34m(self, engine)\u001b[0m\n\u001b[1;32m    983\u001b[0m     \u001b[0;32mdef\u001b[0m \u001b[0m_make_engine\u001b[0m\u001b[0;34m(\u001b[0m\u001b[0mself\u001b[0m\u001b[0;34m,\u001b[0m \u001b[0mengine\u001b[0m\u001b[0;34m=\u001b[0m\u001b[0;34m'c'\u001b[0m\u001b[0;34m)\u001b[0m\u001b[0;34m:\u001b[0m\u001b[0;34m\u001b[0m\u001b[0m\n\u001b[1;32m    984\u001b[0m         \u001b[0;32mif\u001b[0m \u001b[0mengine\u001b[0m \u001b[0;34m==\u001b[0m \u001b[0;34m'c'\u001b[0m\u001b[0;34m:\u001b[0m\u001b[0;34m\u001b[0m\u001b[0m\n\u001b[0;32m--> 985\u001b[0;31m             \u001b[0mself\u001b[0m\u001b[0;34m.\u001b[0m\u001b[0m_engine\u001b[0m \u001b[0;34m=\u001b[0m \u001b[0mCParserWrapper\u001b[0m\u001b[0;34m(\u001b[0m\u001b[0mself\u001b[0m\u001b[0;34m.\u001b[0m\u001b[0mf\u001b[0m\u001b[0;34m,\u001b[0m \u001b[0;34m**\u001b[0m\u001b[0mself\u001b[0m\u001b[0;34m.\u001b[0m\u001b[0moptions\u001b[0m\u001b[0;34m)\u001b[0m\u001b[0;34m\u001b[0m\u001b[0m\n\u001b[0m\u001b[1;32m    986\u001b[0m         \u001b[0;32melse\u001b[0m\u001b[0;34m:\u001b[0m\u001b[0;34m\u001b[0m\u001b[0m\n\u001b[1;32m    987\u001b[0m             \u001b[0;32mif\u001b[0m \u001b[0mengine\u001b[0m \u001b[0;34m==\u001b[0m \u001b[0;34m'python'\u001b[0m\u001b[0;34m:\u001b[0m\u001b[0;34m\u001b[0m\u001b[0m\n",
      "\u001b[0;32m~/anaconda3/lib/python3.6/site-packages/pandas/io/parsers.py\u001b[0m in \u001b[0;36m__init__\u001b[0;34m(self, src, **kwds)\u001b[0m\n\u001b[1;32m   1603\u001b[0m         \u001b[0mkwds\u001b[0m\u001b[0;34m[\u001b[0m\u001b[0;34m'allow_leading_cols'\u001b[0m\u001b[0;34m]\u001b[0m \u001b[0;34m=\u001b[0m \u001b[0mself\u001b[0m\u001b[0;34m.\u001b[0m\u001b[0mindex_col\u001b[0m \u001b[0;32mis\u001b[0m \u001b[0;32mnot\u001b[0m \u001b[0;32mFalse\u001b[0m\u001b[0;34m\u001b[0m\u001b[0m\n\u001b[1;32m   1604\u001b[0m \u001b[0;34m\u001b[0m\u001b[0m\n\u001b[0;32m-> 1605\u001b[0;31m         \u001b[0mself\u001b[0m\u001b[0;34m.\u001b[0m\u001b[0m_reader\u001b[0m \u001b[0;34m=\u001b[0m \u001b[0mparsers\u001b[0m\u001b[0;34m.\u001b[0m\u001b[0mTextReader\u001b[0m\u001b[0;34m(\u001b[0m\u001b[0msrc\u001b[0m\u001b[0;34m,\u001b[0m \u001b[0;34m**\u001b[0m\u001b[0mkwds\u001b[0m\u001b[0;34m)\u001b[0m\u001b[0;34m\u001b[0m\u001b[0m\n\u001b[0m\u001b[1;32m   1606\u001b[0m \u001b[0;34m\u001b[0m\u001b[0m\n\u001b[1;32m   1607\u001b[0m         \u001b[0;31m# XXX\u001b[0m\u001b[0;34m\u001b[0m\u001b[0;34m\u001b[0m\u001b[0m\n",
      "\u001b[0;32mpandas/_libs/parsers.pyx\u001b[0m in \u001b[0;36mpandas._libs.parsers.TextReader.__cinit__ (pandas/_libs/parsers.c:4209)\u001b[0;34m()\u001b[0m\n",
      "\u001b[0;32mpandas/_libs/parsers.pyx\u001b[0m in \u001b[0;36mpandas._libs.parsers.TextReader._setup_parser_source (pandas/_libs/parsers.c:8873)\u001b[0;34m()\u001b[0m\n",
      "\u001b[0;31mFileNotFoundError\u001b[0m: File b'termination.csv' does not exist"
     ]
    }
   ],
   "source": [
    "emp = pd.read_csv(\"termination.csv\")"
   ]
  },
  {
   "cell_type": "markdown",
   "metadata": {},
   "source": [
    "### 5 a. Summary of the data"
   ]
  },
  {
   "cell_type": "code",
   "execution_count": 580,
   "metadata": {
    "scrolled": true
   },
   "outputs": [
    {
     "data": {
      "text/html": [
       "<div>\n",
       "<style>\n",
       "    .dataframe thead tr:only-child th {\n",
       "        text-align: right;\n",
       "    }\n",
       "\n",
       "    .dataframe thead th {\n",
       "        text-align: left;\n",
       "    }\n",
       "\n",
       "    .dataframe tbody tr th {\n",
       "        vertical-align: top;\n",
       "    }\n",
       "</style>\n",
       "<table border=\"1\" class=\"dataframe\">\n",
       "  <thead>\n",
       "    <tr style=\"text-align: right;\">\n",
       "      <th></th>\n",
       "      <th>EmployeeID</th>\n",
       "      <th>recorddate_key</th>\n",
       "      <th>birthdate_key</th>\n",
       "      <th>orighiredate_key</th>\n",
       "      <th>terminationdate_key</th>\n",
       "      <th>age</th>\n",
       "      <th>length_of_service</th>\n",
       "      <th>city_name</th>\n",
       "      <th>department_name</th>\n",
       "      <th>job_title</th>\n",
       "      <th>store_name</th>\n",
       "      <th>gender_short</th>\n",
       "      <th>gender_full</th>\n",
       "      <th>termreason_desc</th>\n",
       "      <th>termtype_desc</th>\n",
       "      <th>STATUS_YEAR</th>\n",
       "      <th>STATUS</th>\n",
       "      <th>BUSINESS_UNIT</th>\n",
       "    </tr>\n",
       "  </thead>\n",
       "  <tbody>\n",
       "    <tr>\n",
       "      <th>0</th>\n",
       "      <td>1318</td>\n",
       "      <td>12/31/2006 0:00</td>\n",
       "      <td>1954-01-03</td>\n",
       "      <td>1989-08-28</td>\n",
       "      <td>1900-01-01</td>\n",
       "      <td>52</td>\n",
       "      <td>17</td>\n",
       "      <td>Vancouver</td>\n",
       "      <td>Executive</td>\n",
       "      <td>CEO</td>\n",
       "      <td>35</td>\n",
       "      <td>M</td>\n",
       "      <td>Male</td>\n",
       "      <td>Not Applicable</td>\n",
       "      <td>Not Applicable</td>\n",
       "      <td>2006</td>\n",
       "      <td>ACTIVE</td>\n",
       "      <td>HEADOFFICE</td>\n",
       "    </tr>\n",
       "    <tr>\n",
       "      <th>1</th>\n",
       "      <td>1318</td>\n",
       "      <td>12/31/2007 0:00</td>\n",
       "      <td>1954-01-03</td>\n",
       "      <td>1989-08-28</td>\n",
       "      <td>1900-01-01</td>\n",
       "      <td>53</td>\n",
       "      <td>18</td>\n",
       "      <td>Vancouver</td>\n",
       "      <td>Executive</td>\n",
       "      <td>CEO</td>\n",
       "      <td>35</td>\n",
       "      <td>M</td>\n",
       "      <td>Male</td>\n",
       "      <td>Not Applicable</td>\n",
       "      <td>Not Applicable</td>\n",
       "      <td>2007</td>\n",
       "      <td>ACTIVE</td>\n",
       "      <td>HEADOFFICE</td>\n",
       "    </tr>\n",
       "    <tr>\n",
       "      <th>2</th>\n",
       "      <td>1318</td>\n",
       "      <td>12/31/2008 0:00</td>\n",
       "      <td>1954-01-03</td>\n",
       "      <td>1989-08-28</td>\n",
       "      <td>1900-01-01</td>\n",
       "      <td>54</td>\n",
       "      <td>19</td>\n",
       "      <td>Vancouver</td>\n",
       "      <td>Executive</td>\n",
       "      <td>CEO</td>\n",
       "      <td>35</td>\n",
       "      <td>M</td>\n",
       "      <td>Male</td>\n",
       "      <td>Not Applicable</td>\n",
       "      <td>Not Applicable</td>\n",
       "      <td>2008</td>\n",
       "      <td>ACTIVE</td>\n",
       "      <td>HEADOFFICE</td>\n",
       "    </tr>\n",
       "    <tr>\n",
       "      <th>3</th>\n",
       "      <td>1318</td>\n",
       "      <td>12/31/2009 0:00</td>\n",
       "      <td>1954-01-03</td>\n",
       "      <td>1989-08-28</td>\n",
       "      <td>1900-01-01</td>\n",
       "      <td>55</td>\n",
       "      <td>20</td>\n",
       "      <td>Vancouver</td>\n",
       "      <td>Executive</td>\n",
       "      <td>CEO</td>\n",
       "      <td>35</td>\n",
       "      <td>M</td>\n",
       "      <td>Male</td>\n",
       "      <td>Not Applicable</td>\n",
       "      <td>Not Applicable</td>\n",
       "      <td>2009</td>\n",
       "      <td>ACTIVE</td>\n",
       "      <td>HEADOFFICE</td>\n",
       "    </tr>\n",
       "    <tr>\n",
       "      <th>4</th>\n",
       "      <td>1318</td>\n",
       "      <td>12/31/2010 0:00</td>\n",
       "      <td>1954-01-03</td>\n",
       "      <td>1989-08-28</td>\n",
       "      <td>1900-01-01</td>\n",
       "      <td>56</td>\n",
       "      <td>21</td>\n",
       "      <td>Vancouver</td>\n",
       "      <td>Executive</td>\n",
       "      <td>CEO</td>\n",
       "      <td>35</td>\n",
       "      <td>M</td>\n",
       "      <td>Male</td>\n",
       "      <td>Not Applicable</td>\n",
       "      <td>Not Applicable</td>\n",
       "      <td>2010</td>\n",
       "      <td>ACTIVE</td>\n",
       "      <td>HEADOFFICE</td>\n",
       "    </tr>\n",
       "  </tbody>\n",
       "</table>\n",
       "</div>"
      ],
      "text/plain": [
       "   EmployeeID   recorddate_key birthdate_key orighiredate_key  \\\n",
       "0        1318  12/31/2006 0:00    1954-01-03       1989-08-28   \n",
       "1        1318  12/31/2007 0:00    1954-01-03       1989-08-28   \n",
       "2        1318  12/31/2008 0:00    1954-01-03       1989-08-28   \n",
       "3        1318  12/31/2009 0:00    1954-01-03       1989-08-28   \n",
       "4        1318  12/31/2010 0:00    1954-01-03       1989-08-28   \n",
       "\n",
       "  terminationdate_key  age  length_of_service  city_name department_name  \\\n",
       "0          1900-01-01   52                 17  Vancouver       Executive   \n",
       "1          1900-01-01   53                 18  Vancouver       Executive   \n",
       "2          1900-01-01   54                 19  Vancouver       Executive   \n",
       "3          1900-01-01   55                 20  Vancouver       Executive   \n",
       "4          1900-01-01   56                 21  Vancouver       Executive   \n",
       "\n",
       "  job_title  store_name gender_short gender_full termreason_desc  \\\n",
       "0       CEO          35            M        Male  Not Applicable   \n",
       "1       CEO          35            M        Male  Not Applicable   \n",
       "2       CEO          35            M        Male  Not Applicable   \n",
       "3       CEO          35            M        Male  Not Applicable   \n",
       "4       CEO          35            M        Male  Not Applicable   \n",
       "\n",
       "    termtype_desc  STATUS_YEAR  STATUS BUSINESS_UNIT  \n",
       "0  Not Applicable         2006  ACTIVE    HEADOFFICE  \n",
       "1  Not Applicable         2007  ACTIVE    HEADOFFICE  \n",
       "2  Not Applicable         2008  ACTIVE    HEADOFFICE  \n",
       "3  Not Applicable         2009  ACTIVE    HEADOFFICE  \n",
       "4  Not Applicable         2010  ACTIVE    HEADOFFICE  "
      ]
     },
     "execution_count": 580,
     "metadata": {},
     "output_type": "execute_result"
    }
   ],
   "source": [
    "emp.head()"
   ]
  },
  {
   "cell_type": "code",
   "execution_count": 581,
   "metadata": {},
   "outputs": [
    {
     "name": "stdout",
     "output_type": "stream",
     "text": [
      "<class 'pandas.core.frame.DataFrame'>\n",
      "RangeIndex: 49653 entries, 0 to 49652\n",
      "Data columns (total 18 columns):\n",
      "EmployeeID             49653 non-null int64\n",
      "recorddate_key         49653 non-null object\n",
      "birthdate_key          49653 non-null object\n",
      "orighiredate_key       49653 non-null object\n",
      "terminationdate_key    49653 non-null object\n",
      "age                    49653 non-null int64\n",
      "length_of_service      49653 non-null int64\n",
      "city_name              49653 non-null object\n",
      "department_name        49653 non-null object\n",
      "job_title              49653 non-null object\n",
      "store_name             49653 non-null int64\n",
      "gender_short           49653 non-null object\n",
      "gender_full            49653 non-null object\n",
      "termreason_desc        49653 non-null object\n",
      "termtype_desc          49653 non-null object\n",
      "STATUS_YEAR            49653 non-null int64\n",
      "STATUS                 49653 non-null object\n",
      "BUSINESS_UNIT          49653 non-null object\n",
      "dtypes: int64(5), object(13)\n",
      "memory usage: 6.8+ MB\n"
     ]
    }
   ],
   "source": [
    "emp.info()"
   ]
  },
  {
   "cell_type": "code",
   "execution_count": 582,
   "metadata": {},
   "outputs": [
    {
     "data": {
      "text/html": [
       "<div>\n",
       "<style>\n",
       "    .dataframe thead tr:only-child th {\n",
       "        text-align: right;\n",
       "    }\n",
       "\n",
       "    .dataframe thead th {\n",
       "        text-align: left;\n",
       "    }\n",
       "\n",
       "    .dataframe tbody tr th {\n",
       "        vertical-align: top;\n",
       "    }\n",
       "</style>\n",
       "<table border=\"1\" class=\"dataframe\">\n",
       "  <thead>\n",
       "    <tr style=\"text-align: right;\">\n",
       "      <th></th>\n",
       "      <th>EmployeeID</th>\n",
       "      <th>age</th>\n",
       "      <th>length_of_service</th>\n",
       "      <th>store_name</th>\n",
       "      <th>STATUS_YEAR</th>\n",
       "    </tr>\n",
       "  </thead>\n",
       "  <tbody>\n",
       "    <tr>\n",
       "      <th>count</th>\n",
       "      <td>49653.000000</td>\n",
       "      <td>49653.000000</td>\n",
       "      <td>49653.000000</td>\n",
       "      <td>49653.000000</td>\n",
       "      <td>49653.000000</td>\n",
       "    </tr>\n",
       "    <tr>\n",
       "      <th>mean</th>\n",
       "      <td>4859.495740</td>\n",
       "      <td>42.077035</td>\n",
       "      <td>10.434596</td>\n",
       "      <td>27.297605</td>\n",
       "      <td>2010.612612</td>\n",
       "    </tr>\n",
       "    <tr>\n",
       "      <th>std</th>\n",
       "      <td>1826.571142</td>\n",
       "      <td>12.427257</td>\n",
       "      <td>6.325286</td>\n",
       "      <td>13.514134</td>\n",
       "      <td>2.845577</td>\n",
       "    </tr>\n",
       "    <tr>\n",
       "      <th>min</th>\n",
       "      <td>1318.000000</td>\n",
       "      <td>19.000000</td>\n",
       "      <td>0.000000</td>\n",
       "      <td>1.000000</td>\n",
       "      <td>2006.000000</td>\n",
       "    </tr>\n",
       "    <tr>\n",
       "      <th>25%</th>\n",
       "      <td>3360.000000</td>\n",
       "      <td>31.000000</td>\n",
       "      <td>5.000000</td>\n",
       "      <td>16.000000</td>\n",
       "      <td>2008.000000</td>\n",
       "    </tr>\n",
       "    <tr>\n",
       "      <th>50%</th>\n",
       "      <td>5031.000000</td>\n",
       "      <td>42.000000</td>\n",
       "      <td>10.000000</td>\n",
       "      <td>28.000000</td>\n",
       "      <td>2011.000000</td>\n",
       "    </tr>\n",
       "    <tr>\n",
       "      <th>75%</th>\n",
       "      <td>6335.000000</td>\n",
       "      <td>53.000000</td>\n",
       "      <td>15.000000</td>\n",
       "      <td>42.000000</td>\n",
       "      <td>2013.000000</td>\n",
       "    </tr>\n",
       "    <tr>\n",
       "      <th>max</th>\n",
       "      <td>8336.000000</td>\n",
       "      <td>65.000000</td>\n",
       "      <td>26.000000</td>\n",
       "      <td>46.000000</td>\n",
       "      <td>2015.000000</td>\n",
       "    </tr>\n",
       "  </tbody>\n",
       "</table>\n",
       "</div>"
      ],
      "text/plain": [
       "         EmployeeID           age  length_of_service    store_name  \\\n",
       "count  49653.000000  49653.000000       49653.000000  49653.000000   \n",
       "mean    4859.495740     42.077035          10.434596     27.297605   \n",
       "std     1826.571142     12.427257           6.325286     13.514134   \n",
       "min     1318.000000     19.000000           0.000000      1.000000   \n",
       "25%     3360.000000     31.000000           5.000000     16.000000   \n",
       "50%     5031.000000     42.000000          10.000000     28.000000   \n",
       "75%     6335.000000     53.000000          15.000000     42.000000   \n",
       "max     8336.000000     65.000000          26.000000     46.000000   \n",
       "\n",
       "        STATUS_YEAR  \n",
       "count  49653.000000  \n",
       "mean    2010.612612  \n",
       "std        2.845577  \n",
       "min     2006.000000  \n",
       "25%     2008.000000  \n",
       "50%     2011.000000  \n",
       "75%     2013.000000  \n",
       "max     2015.000000  "
      ]
     },
     "execution_count": 582,
     "metadata": {},
     "output_type": "execute_result"
    }
   ],
   "source": [
    "emp.describe()"
   ]
  },
  {
   "cell_type": "markdown",
   "metadata": {},
   "source": [
    "From the above summary table, we can spot some meaningless quantity such as the statistics for EmployeeID. For example, the mean, std, min, max, and quartiles for the EmployeeID don't convey any information. Other variables such as store_name and STATUS_YEAR also share the same problem. These variables should be categorical variables rather than numerical variables."
   ]
  },
  {
   "cell_type": "markdown",
   "metadata": {},
   "source": [
    "### 5 b. (1) Compute the % of terminated employees out of all employees for each year"
   ]
  },
  {
   "cell_type": "code",
   "execution_count": 583,
   "metadata": {},
   "outputs": [
    {
     "data": {
      "text/plain": [
       "18"
      ]
     },
     "execution_count": 583,
     "metadata": {},
     "output_type": "execute_result"
    }
   ],
   "source": [
    "len(emp) #49653 rows\n",
    "len(emp.columns) #18 columns"
   ]
  },
  {
   "cell_type": "code",
   "execution_count": 584,
   "metadata": {
    "collapsed": true
   },
   "outputs": [],
   "source": [
    "terminated = []"
   ]
  },
  {
   "cell_type": "code",
   "execution_count": 585,
   "metadata": {
    "collapsed": true
   },
   "outputs": [],
   "source": [
    "for i in list(emp.STATUS_YEAR.unique()):\n",
    "    cal = len(emp[(emp.STATUS_YEAR == i) & (emp.STATUS == 'TERMINATED')].EmployeeID.unique())/len(emp[emp.STATUS_YEAR == i].EmployeeID.unique())\n",
    "    terminated.append(round(cal*100, 2))"
   ]
  },
  {
   "cell_type": "code",
   "execution_count": 586,
   "metadata": {},
   "outputs": [
    {
     "data": {
      "text/html": [
       "<div>\n",
       "<style>\n",
       "    .dataframe thead tr:only-child th {\n",
       "        text-align: right;\n",
       "    }\n",
       "\n",
       "    .dataframe thead th {\n",
       "        text-align: left;\n",
       "    }\n",
       "\n",
       "    .dataframe tbody tr th {\n",
       "        vertical-align: top;\n",
       "    }\n",
       "</style>\n",
       "<table border=\"1\" class=\"dataframe\">\n",
       "  <thead>\n",
       "    <tr style=\"text-align: right;\">\n",
       "      <th></th>\n",
       "      <th>Year</th>\n",
       "      <th>Terminated_Rate %</th>\n",
       "    </tr>\n",
       "  </thead>\n",
       "  <tbody>\n",
       "    <tr>\n",
       "      <th>1</th>\n",
       "      <td>2006</td>\n",
       "      <td>2.93</td>\n",
       "    </tr>\n",
       "    <tr>\n",
       "      <th>2</th>\n",
       "      <td>2007</td>\n",
       "      <td>3.46</td>\n",
       "    </tr>\n",
       "    <tr>\n",
       "      <th>3</th>\n",
       "      <td>2008</td>\n",
       "      <td>3.44</td>\n",
       "    </tr>\n",
       "    <tr>\n",
       "      <th>4</th>\n",
       "      <td>2009</td>\n",
       "      <td>2.93</td>\n",
       "    </tr>\n",
       "    <tr>\n",
       "      <th>5</th>\n",
       "      <td>2010</td>\n",
       "      <td>2.48</td>\n",
       "    </tr>\n",
       "    <tr>\n",
       "      <th>6</th>\n",
       "      <td>2011</td>\n",
       "      <td>2.16</td>\n",
       "    </tr>\n",
       "    <tr>\n",
       "      <th>7</th>\n",
       "      <td>2012</td>\n",
       "      <td>2.49</td>\n",
       "    </tr>\n",
       "    <tr>\n",
       "      <th>8</th>\n",
       "      <td>2013</td>\n",
       "      <td>1.97</td>\n",
       "    </tr>\n",
       "    <tr>\n",
       "      <th>9</th>\n",
       "      <td>2014</td>\n",
       "      <td>4.85</td>\n",
       "    </tr>\n",
       "    <tr>\n",
       "      <th>10</th>\n",
       "      <td>2015</td>\n",
       "      <td>3.27</td>\n",
       "    </tr>\n",
       "  </tbody>\n",
       "</table>\n",
       "</div>"
      ],
      "text/plain": [
       "    Year  Terminated_Rate %\n",
       "1   2006               2.93\n",
       "2   2007               3.46\n",
       "3   2008               3.44\n",
       "4   2009               2.93\n",
       "5   2010               2.48\n",
       "6   2011               2.16\n",
       "7   2012               2.49\n",
       "8   2013               1.97\n",
       "9   2014               4.85\n",
       "10  2015               3.27"
      ]
     },
     "execution_count": 586,
     "metadata": {},
     "output_type": "execute_result"
    }
   ],
   "source": [
    "result = pd.DataFrame(list(emp.STATUS_YEAR.unique()), columns = ['Year'], index = range(1,11))\n",
    "result['Terminated_Rate %'] = terminated\n",
    "result"
   ]
  },
  {
   "cell_type": "markdown",
   "metadata": {},
   "source": [
    "### 5 b. (2) Compute the average termination rate over the 10 years "
   ]
  },
  {
   "cell_type": "code",
   "execution_count": 587,
   "metadata": {},
   "outputs": [
    {
     "data": {
      "text/plain": [
       "2.998"
      ]
     },
     "execution_count": 587,
     "metadata": {},
     "output_type": "execute_result"
    }
   ],
   "source": [
    "result['Terminated_Rate %'].mean()"
   ]
  },
  {
   "cell_type": "markdown",
   "metadata": {},
   "source": [
    "### 5 c. Stacked Bar Chart( X : STATUS_YEAR; Y : number of terminated employees with various type)"
   ]
  },
  {
   "cell_type": "code",
   "execution_count": 588,
   "metadata": {
    "scrolled": true
   },
   "outputs": [
    {
     "data": {
      "text/html": [
       "<div>\n",
       "<style>\n",
       "    .dataframe thead tr:only-child th {\n",
       "        text-align: right;\n",
       "    }\n",
       "\n",
       "    .dataframe thead th {\n",
       "        text-align: left;\n",
       "    }\n",
       "\n",
       "    .dataframe tbody tr th {\n",
       "        vertical-align: top;\n",
       "    }\n",
       "</style>\n",
       "<table border=\"1\" class=\"dataframe\">\n",
       "  <thead>\n",
       "    <tr style=\"text-align: right;\">\n",
       "      <th>termreason_desc</th>\n",
       "      <th>Layoff</th>\n",
       "      <th>Not Applicable</th>\n",
       "      <th>Resignaton</th>\n",
       "      <th>Retirement</th>\n",
       "    </tr>\n",
       "    <tr>\n",
       "      <th>STATUS_YEAR</th>\n",
       "      <th></th>\n",
       "      <th></th>\n",
       "      <th></th>\n",
       "      <th></th>\n",
       "    </tr>\n",
       "  </thead>\n",
       "  <tbody>\n",
       "    <tr>\n",
       "      <th>2006</th>\n",
       "      <td>137</td>\n",
       "      <td>3424</td>\n",
       "      <td>133</td>\n",
       "      <td>885</td>\n",
       "    </tr>\n",
       "    <tr>\n",
       "      <th>2007</th>\n",
       "      <td>147</td>\n",
       "      <td>3601</td>\n",
       "      <td>171</td>\n",
       "      <td>764</td>\n",
       "    </tr>\n",
       "    <tr>\n",
       "      <th>2008</th>\n",
       "      <td>162</td>\n",
       "      <td>3792</td>\n",
       "      <td>186</td>\n",
       "      <td>627</td>\n",
       "    </tr>\n",
       "    <tr>\n",
       "      <th>2009</th>\n",
       "      <td>175</td>\n",
       "      <td>3986</td>\n",
       "      <td>203</td>\n",
       "      <td>488</td>\n",
       "    </tr>\n",
       "    <tr>\n",
       "      <th>2010</th>\n",
       "      <td>181</td>\n",
       "      <td>4165</td>\n",
       "      <td>253</td>\n",
       "      <td>364</td>\n",
       "    </tr>\n",
       "    <tr>\n",
       "      <th>2011</th>\n",
       "      <td>193</td>\n",
       "      <td>4352</td>\n",
       "      <td>267</td>\n",
       "      <td>270</td>\n",
       "    </tr>\n",
       "    <tr>\n",
       "      <th>2012</th>\n",
       "      <td>207</td>\n",
       "      <td>4529</td>\n",
       "      <td>266</td>\n",
       "      <td>229</td>\n",
       "    </tr>\n",
       "    <tr>\n",
       "      <th>2013</th>\n",
       "      <td>215</td>\n",
       "      <td>4668</td>\n",
       "      <td>262</td>\n",
       "      <td>175</td>\n",
       "    </tr>\n",
       "    <tr>\n",
       "      <th>2014</th>\n",
       "      <td>215</td>\n",
       "      <td>4668</td>\n",
       "      <td>213</td>\n",
       "      <td>119</td>\n",
       "    </tr>\n",
       "    <tr>\n",
       "      <th>2015</th>\n",
       "      <td>73</td>\n",
       "      <td>4668</td>\n",
       "      <td>157</td>\n",
       "      <td>63</td>\n",
       "    </tr>\n",
       "  </tbody>\n",
       "</table>\n",
       "</div>"
      ],
      "text/plain": [
       "termreason_desc  Layoff  Not Applicable  Resignaton  Retirement\n",
       "STATUS_YEAR                                                    \n",
       "2006                137            3424         133         885\n",
       "2007                147            3601         171         764\n",
       "2008                162            3792         186         627\n",
       "2009                175            3986         203         488\n",
       "2010                181            4165         253         364\n",
       "2011                193            4352         267         270\n",
       "2012                207            4529         266         229\n",
       "2013                215            4668         262         175\n",
       "2014                215            4668         213         119\n",
       "2015                 73            4668         157          63"
      ]
     },
     "execution_count": 588,
     "metadata": {},
     "output_type": "execute_result"
    }
   ],
   "source": [
    "temp = emp.groupby(['STATUS_YEAR', 'termreason_desc'])['STATUS_YEAR'].count().unstack('termreason_desc')\n",
    "temp"
   ]
  },
  {
   "cell_type": "code",
   "execution_count": 589,
   "metadata": {},
   "outputs": [
    {
     "data": {
      "text/plain": [
       "<matplotlib.legend.Legend at 0x1a233db4e0>"
      ]
     },
     "execution_count": 589,
     "metadata": {},
     "output_type": "execute_result"
    },
    {
     "data": {
      "image/png": "[encoded data removed]",
      "text/plain": [
       "<matplotlib.figure.Figure at 0x1a233db438>"
      ]
     },
     "metadata": {},
     "output_type": "display_data"
    }
   ],
   "source": [
    "temp.plot(kind='bar', stacked = True, colormap = 'Paired')\n",
    "plt.legend(loc = 'center left', bbox_to_anchor = (1.0, 0.5))"
   ]
  },
  {
   "cell_type": "markdown",
   "metadata": {},
   "source": [
    "From the above stacked bar chart, we can know that the primary reason for employee termination from 2006 to 2015 was due to \"Not Applicable\". Also, the number of \"Retirement\" type of termination decreased over the years. Year 2013 seemed to be peak for employee termination, and after that year, the termination condition started to reduce."
   ]
  },
  {
   "cell_type": "markdown",
   "metadata": {},
   "source": [
    "### 5 d. Box-plot of Age for active and terminated employees"
   ]
  },
  {
   "cell_type": "code",
   "execution_count": 590,
   "metadata": {},
   "outputs": [
    {
     "data": {
      "text/plain": [
       "<matplotlib.axes._subplots.AxesSubplot at 0x1a2335f3c8>"
      ]
     },
     "execution_count": 590,
     "metadata": {},
     "output_type": "execute_result"
    },
    {
     "data": {
      "image/png": "[encoded data removed]",
      "text/plain": [
       "<matplotlib.figure.Figure at 0x1a233bcbe0>"
      ]
     },
     "metadata": {},
     "output_type": "display_data"
    }
   ],
   "source": [
    "sns.boxplot(x=\"STATUS\", y=\"age\", data = emp, palette=\"Set2\")"
   ]
  },
  {
   "cell_type": "markdown",
   "metadata": {},
   "source": [
    "Based on the above boxplot, the age median for terminated employees is higher, which is alomost 60 with interquartile range(IQR) of 34 to 65; on the other hand, active employees seem to be younger with median in roughly 42 and the IQR is more compact ranging from 32 to 53. The reason for the differences in IQR for active and terminated employees might be due to the various type of terminated reasons. Some employee termination is caused by retirement, from people who tend to be older, others might be owing to not applicable, lay off, or resignation. Therefore, the IQR of age for terminated employees is wider than active employees."
   ]
  },
  {
   "cell_type": "markdown",
   "metadata": {},
   "source": [
    "### 5 e. Kernel Density Estimation of Length of Service for active and  terminated employees"
   ]
  },
  {
   "cell_type": "markdown",
   "metadata": {},
   "source": [
    "### 5 e.(A) Uniformly sample points between [0, 30] with interval 0.1"
   ]
  },
  {
   "cell_type": "code",
   "execution_count": 1,
   "metadata": {
    "scrolled": true
   },
   "outputs": [
    {
     "ename": "NameError",
     "evalue": "name 'np' is not defined",
     "output_type": "error",
     "traceback": [
      "\u001b[0;31m---------------------------------------------------------------------------\u001b[0m",
      "\u001b[0;31mNameError\u001b[0m                                 Traceback (most recent call last)",
      "\u001b[0;32m<ipython-input-1-e5e351b7bcf8>\u001b[0m in \u001b[0;36m<module>\u001b[0;34m()\u001b[0m\n\u001b[0;32m----> 1\u001b[0;31m \u001b[0mu\u001b[0m \u001b[0;34m=\u001b[0m \u001b[0mnp\u001b[0m\u001b[0;34m.\u001b[0m\u001b[0marange\u001b[0m\u001b[0;34m(\u001b[0m\u001b[0;36m0\u001b[0m\u001b[0;34m,\u001b[0m\u001b[0;36m30.1\u001b[0m\u001b[0;34m,\u001b[0m\u001b[0;36m0.1\u001b[0m\u001b[0;34m)\u001b[0m\u001b[0;34m\u001b[0m\u001b[0m\n\u001b[0m",
      "\u001b[0;31mNameError\u001b[0m: name 'np' is not defined"
     ]
    }
   ],
   "source": [
    "u = np.arange(0,30.1,0.1)"
   ]
  },
  {
   "cell_type": "markdown",
   "metadata": {},
   "source": [
    "u = np.arange(0,30.1,0.1)"
   ]
  },
  {
   "cell_type": "markdown",
   "metadata": {},
   "source": [
    "### 5 e.(B) Write custom kernel density estimation function"
   ]
  },
  {
   "cell_type": "code",
   "execution_count": 592,
   "metadata": {
    "collapsed": true
   },
   "outputs": [],
   "source": [
    "def kde_cal_active(x):\n",
    "    diff = []\n",
    "    for i in emp[emp.STATUS == 'ACTIVE'].length_of_service:\n",
    "        diff.append(x - i)\n",
    "    density = st.norm.pdf(diff,0,1)\n",
    "    nkde = density.sum()/len(emp[emp.STATUS == 'ACTIVE'].length_of_service)\n",
    "    return nkde"
   ]
  },
  {
   "cell_type": "markdown",
   "metadata": {},
   "source": [
    "### 5 e.(C) Compute the KDE for each of the sampled points in (A) and plot the final density estimate"
   ]
  },
  {
   "cell_type": "code",
   "execution_count": 593,
   "metadata": {},
   "outputs": [
    {
     "data": {
      "text/plain": [
       "[<matplotlib.lines.Line2D at 0x1a22304f60>]"
      ]
     },
     "execution_count": 593,
     "metadata": {},
     "output_type": "execute_result"
    },
    {
     "data": {
      "image/png": "[encoded data removed]",
      "text/plain": [
       "<matplotlib.figure.Figure at 0x1a1fece0f0>"
      ]
     },
     "metadata": {},
     "output_type": "display_data"
    }
   ],
   "source": [
    "result = []\n",
    "for j in u:\n",
    "    tkde = kde_cal_active(j)\n",
    "    result.append(tkde)\n",
    "plt.plot(u, result)"
   ]
  },
  {
   "cell_type": "markdown",
   "metadata": {
    "collapsed": true
   },
   "source": [
    "### 5 e.(D) Repeat step (B) and (C), plot the KDE for terminated employees"
   ]
  },
  {
   "cell_type": "code",
   "execution_count": 594,
   "metadata": {
    "collapsed": true
   },
   "outputs": [],
   "source": [
    "def kde_cal_terminated(x):\n",
    "    diff = []\n",
    "    for i in emp[emp.STATUS == 'TERMINATED'].length_of_service:\n",
    "        diff.append(x - i)\n",
    "    density = st.norm.pdf(diff,0,1)\n",
    "    nkde = density.sum()/len(emp[emp.STATUS == 'TERMINATED'].length_of_service)\n",
    "    return nkde"
   ]
  },
  {
   "cell_type": "code",
   "execution_count": 595,
   "metadata": {
    "scrolled": true
   },
   "outputs": [
    {
     "data": {
      "text/plain": [
       "[<matplotlib.lines.Line2D at 0x1a225a00b8>]"
      ]
     },
     "execution_count": 595,
     "metadata": {},
     "output_type": "execute_result"
    },
    {
     "data": {
      "image/png": "[encoded data removed]",
      "text/plain": [
       "<matplotlib.figure.Figure at 0x1a1fea7ef0>"
      ]
     },
     "metadata": {},
     "output_type": "display_data"
    }
   ],
   "source": [
    "result1 = []\n",
    "for j in u:\n",
    "    tkde = kde_cal_terminated(j)\n",
    "    result1.append(tkde)\n",
    "plt.plot(u, result1)"
   ]
  },
  {
   "cell_type": "code",
   "execution_count": 596,
   "metadata": {},
   "outputs": [
    {
     "data": {
      "image/png": "[encoded data removed]",
      "text/plain": [
       "<matplotlib.figure.Figure at 0x1a2264b710>"
      ]
     },
     "metadata": {},
     "output_type": "display_data"
    }
   ],
   "source": [
    "plt.hold(True)\n",
    "plt.plot(u, result1)\n",
    "plt.plot(u, result)\n",
    "plt.legend(['terminated', 'active'], loc='upper left')\n",
    "plt.show()"
   ]
  },
  {
   "cell_type": "markdown",
   "metadata": {},
   "source": []
  },
  {
   "cell_type": "markdown",
   "metadata": {
    "collapsed": true
   },
   "source": [
    "From the above KDE plot, the length of service for terminated employee was very varied compared to active employees. Besides, there are several peaks for the employee termination curve, whereas the curve for active employees is relatively smooth."
   ]
  },
  {
   "cell_type": "code",
   "execution_count": 598,
   "metadata": {
    "collapsed": true
   },
   "outputs": [],
   "source": [
    "#Alternative method: use seaborn package sns.kdeplot to plot\n",
    "#k1 = sns.kdeplot(emp[emp.STATUS == 'TERMINATED'].length_of_service)\n",
    "#k2 = sns.kdeplot(emp[emp.STATUS == 'ACTIVE'].length_of_service)\n",
    "#plt.legend(['terminated', 'active'], loc='upper left')"
   ]
  },
  {
   "cell_type": "markdown",
   "metadata": {},
   "source": [
    "### 6. Applied Linear Regression"
   ]
  },
  {
   "cell_type": "code",
   "execution_count": 601,
   "metadata": {
    "collapsed": true
   },
   "outputs": [],
   "source": [
    "wage = pd.read_csv(\"Wage.csv\")"
   ]
  },
  {
   "cell_type": "code",
   "execution_count": 602,
   "metadata": {},
   "outputs": [
    {
     "data": {
      "text/html": [
       "<div>\n",
       "<style>\n",
       "    .dataframe thead tr:only-child th {\n",
       "        text-align: right;\n",
       "    }\n",
       "\n",
       "    .dataframe thead th {\n",
       "        text-align: left;\n",
       "    }\n",
       "\n",
       "    .dataframe tbody tr th {\n",
       "        vertical-align: top;\n",
       "    }\n",
       "</style>\n",
       "<table border=\"1\" class=\"dataframe\">\n",
       "  <thead>\n",
       "    <tr style=\"text-align: right;\">\n",
       "      <th></th>\n",
       "      <th>year</th>\n",
       "      <th>age</th>\n",
       "      <th>sex</th>\n",
       "      <th>maritl</th>\n",
       "      <th>race</th>\n",
       "      <th>education</th>\n",
       "      <th>region</th>\n",
       "      <th>jobclass</th>\n",
       "      <th>health</th>\n",
       "      <th>health_ins</th>\n",
       "      <th>logwage</th>\n",
       "      <th>wage</th>\n",
       "    </tr>\n",
       "  </thead>\n",
       "  <tbody>\n",
       "    <tr>\n",
       "      <th>231655</th>\n",
       "      <td>2006</td>\n",
       "      <td>18</td>\n",
       "      <td>1. Male</td>\n",
       "      <td>1. Never Married</td>\n",
       "      <td>1. White</td>\n",
       "      <td>1. &lt; HS Grad</td>\n",
       "      <td>2. Middle Atlantic</td>\n",
       "      <td>1. Industrial</td>\n",
       "      <td>1. &lt;=Good</td>\n",
       "      <td>2. No</td>\n",
       "      <td>4.318063</td>\n",
       "      <td>75.043154</td>\n",
       "    </tr>\n",
       "    <tr>\n",
       "      <th>86582</th>\n",
       "      <td>2004</td>\n",
       "      <td>24</td>\n",
       "      <td>1. Male</td>\n",
       "      <td>1. Never Married</td>\n",
       "      <td>1. White</td>\n",
       "      <td>4. College Grad</td>\n",
       "      <td>2. Middle Atlantic</td>\n",
       "      <td>2. Information</td>\n",
       "      <td>2. &gt;=Very Good</td>\n",
       "      <td>2. No</td>\n",
       "      <td>4.255273</td>\n",
       "      <td>70.476020</td>\n",
       "    </tr>\n",
       "    <tr>\n",
       "      <th>161300</th>\n",
       "      <td>2003</td>\n",
       "      <td>45</td>\n",
       "      <td>1. Male</td>\n",
       "      <td>2. Married</td>\n",
       "      <td>1. White</td>\n",
       "      <td>3. Some College</td>\n",
       "      <td>2. Middle Atlantic</td>\n",
       "      <td>1. Industrial</td>\n",
       "      <td>1. &lt;=Good</td>\n",
       "      <td>1. Yes</td>\n",
       "      <td>4.875061</td>\n",
       "      <td>130.982177</td>\n",
       "    </tr>\n",
       "    <tr>\n",
       "      <th>155159</th>\n",
       "      <td>2003</td>\n",
       "      <td>43</td>\n",
       "      <td>1. Male</td>\n",
       "      <td>2. Married</td>\n",
       "      <td>3. Asian</td>\n",
       "      <td>4. College Grad</td>\n",
       "      <td>2. Middle Atlantic</td>\n",
       "      <td>2. Information</td>\n",
       "      <td>2. &gt;=Very Good</td>\n",
       "      <td>1. Yes</td>\n",
       "      <td>5.041393</td>\n",
       "      <td>154.685293</td>\n",
       "    </tr>\n",
       "    <tr>\n",
       "      <th>11443</th>\n",
       "      <td>2005</td>\n",
       "      <td>50</td>\n",
       "      <td>1. Male</td>\n",
       "      <td>4. Divorced</td>\n",
       "      <td>1. White</td>\n",
       "      <td>2. HS Grad</td>\n",
       "      <td>2. Middle Atlantic</td>\n",
       "      <td>2. Information</td>\n",
       "      <td>1. &lt;=Good</td>\n",
       "      <td>1. Yes</td>\n",
       "      <td>4.318063</td>\n",
       "      <td>75.043154</td>\n",
       "    </tr>\n",
       "  </tbody>\n",
       "</table>\n",
       "</div>"
      ],
      "text/plain": [
       "        year  age      sex            maritl      race        education  \\\n",
       "231655  2006   18  1. Male  1. Never Married  1. White     1. < HS Grad   \n",
       "86582   2004   24  1. Male  1. Never Married  1. White  4. College Grad   \n",
       "161300  2003   45  1. Male        2. Married  1. White  3. Some College   \n",
       "155159  2003   43  1. Male        2. Married  3. Asian  4. College Grad   \n",
       "11443   2005   50  1. Male       4. Divorced  1. White       2. HS Grad   \n",
       "\n",
       "                    region        jobclass          health health_ins  \\\n",
       "231655  2. Middle Atlantic   1. Industrial       1. <=Good      2. No   \n",
       "86582   2. Middle Atlantic  2. Information  2. >=Very Good      2. No   \n",
       "161300  2. Middle Atlantic   1. Industrial       1. <=Good     1. Yes   \n",
       "155159  2. Middle Atlantic  2. Information  2. >=Very Good     1. Yes   \n",
       "11443   2. Middle Atlantic  2. Information       1. <=Good     1. Yes   \n",
       "\n",
       "         logwage        wage  \n",
       "231655  4.318063   75.043154  \n",
       "86582   4.255273   70.476020  \n",
       "161300  4.875061  130.982177  \n",
       "155159  5.041393  154.685293  \n",
       "11443   4.318063   75.043154  "
      ]
     },
     "execution_count": 602,
     "metadata": {},
     "output_type": "execute_result"
    }
   ],
   "source": [
    "wage.head()"
   ]
  },
  {
   "cell_type": "code",
   "execution_count": 607,
   "metadata": {},
   "outputs": [
    {
     "name": "stdout",
     "output_type": "stream",
     "text": [
      "<class 'pandas.core.frame.DataFrame'>\n",
      "Int64Index: 3000 entries, 231655 to 453557\n",
      "Data columns (total 12 columns):\n",
      "year          3000 non-null int64\n",
      "age           3000 non-null int64\n",
      "sex           3000 non-null object\n",
      "maritl        3000 non-null object\n",
      "race          3000 non-null object\n",
      "education     3000 non-null object\n",
      "region        3000 non-null object\n",
      "jobclass      3000 non-null object\n",
      "health        3000 non-null object\n",
      "health_ins    3000 non-null object\n",
      "logwage       3000 non-null float64\n",
      "wage          3000 non-null float64\n",
      "dtypes: float64(2), int64(2), object(8)\n",
      "memory usage: 384.7+ KB\n"
     ]
    }
   ],
   "source": [
    "wage.info()"
   ]
  },
  {
   "cell_type": "code",
   "execution_count": 608,
   "metadata": {},
   "outputs": [
    {
     "data": {
      "text/html": [
       "<div>\n",
       "<style>\n",
       "    .dataframe thead tr:only-child th {\n",
       "        text-align: right;\n",
       "    }\n",
       "\n",
       "    .dataframe thead th {\n",
       "        text-align: left;\n",
       "    }\n",
       "\n",
       "    .dataframe tbody tr th {\n",
       "        vertical-align: top;\n",
       "    }\n",
       "</style>\n",
       "<table border=\"1\" class=\"dataframe\">\n",
       "  <thead>\n",
       "    <tr style=\"text-align: right;\">\n",
       "      <th></th>\n",
       "      <th>year</th>\n",
       "      <th>age</th>\n",
       "      <th>logwage</th>\n",
       "      <th>wage</th>\n",
       "    </tr>\n",
       "  </thead>\n",
       "  <tbody>\n",
       "    <tr>\n",
       "      <th>count</th>\n",
       "      <td>3000.000000</td>\n",
       "      <td>3000.000000</td>\n",
       "      <td>3000.000000</td>\n",
       "      <td>3000.000000</td>\n",
       "    </tr>\n",
       "    <tr>\n",
       "      <th>mean</th>\n",
       "      <td>2005.791000</td>\n",
       "      <td>42.414667</td>\n",
       "      <td>4.653905</td>\n",
       "      <td>111.703608</td>\n",
       "    </tr>\n",
       "    <tr>\n",
       "      <th>std</th>\n",
       "      <td>2.026167</td>\n",
       "      <td>11.542406</td>\n",
       "      <td>0.351753</td>\n",
       "      <td>41.728595</td>\n",
       "    </tr>\n",
       "    <tr>\n",
       "      <th>min</th>\n",
       "      <td>2003.000000</td>\n",
       "      <td>18.000000</td>\n",
       "      <td>3.000000</td>\n",
       "      <td>20.085537</td>\n",
       "    </tr>\n",
       "    <tr>\n",
       "      <th>25%</th>\n",
       "      <td>2004.000000</td>\n",
       "      <td>33.750000</td>\n",
       "      <td>4.447158</td>\n",
       "      <td>85.383940</td>\n",
       "    </tr>\n",
       "    <tr>\n",
       "      <th>50%</th>\n",
       "      <td>2006.000000</td>\n",
       "      <td>42.000000</td>\n",
       "      <td>4.653213</td>\n",
       "      <td>104.921507</td>\n",
       "    </tr>\n",
       "    <tr>\n",
       "      <th>75%</th>\n",
       "      <td>2008.000000</td>\n",
       "      <td>51.000000</td>\n",
       "      <td>4.857332</td>\n",
       "      <td>128.680488</td>\n",
       "    </tr>\n",
       "    <tr>\n",
       "      <th>max</th>\n",
       "      <td>2009.000000</td>\n",
       "      <td>80.000000</td>\n",
       "      <td>5.763128</td>\n",
       "      <td>318.342430</td>\n",
       "    </tr>\n",
       "  </tbody>\n",
       "</table>\n",
       "</div>"
      ],
      "text/plain": [
       "              year          age      logwage         wage\n",
       "count  3000.000000  3000.000000  3000.000000  3000.000000\n",
       "mean   2005.791000    42.414667     4.653905   111.703608\n",
       "std       2.026167    11.542406     0.351753    41.728595\n",
       "min    2003.000000    18.000000     3.000000    20.085537\n",
       "25%    2004.000000    33.750000     4.447158    85.383940\n",
       "50%    2006.000000    42.000000     4.653213   104.921507\n",
       "75%    2008.000000    51.000000     4.857332   128.680488\n",
       "max    2009.000000    80.000000     5.763128   318.342430"
      ]
     },
     "execution_count": 608,
     "metadata": {},
     "output_type": "execute_result"
    }
   ],
   "source": [
    "wage.describe()"
   ]
  },
  {
   "cell_type": "markdown",
   "metadata": {},
   "source": [
    "### 6 a. Regress Wage on Age (show the result and scatter plot)"
   ]
  },
  {
   "cell_type": "code",
   "execution_count": 609,
   "metadata": {
    "collapsed": true
   },
   "outputs": [],
   "source": [
    "import statsmodels.api as sm\n",
    "import statsmodels.formula.api as smf"
   ]
  },
  {
   "cell_type": "code",
   "execution_count": 610,
   "metadata": {
    "scrolled": true
   },
   "outputs": [
    {
     "name": "stdout",
     "output_type": "stream",
     "text": [
      "                            OLS Regression Results                            \n",
      "==============================================================================\n",
      "Dep. Variable:                   wage   R-squared:                       0.038\n",
      "Model:                            OLS   Adj. R-squared:                  0.038\n",
      "Method:                 Least Squares   F-statistic:                     119.3\n",
      "Date:                Sun, 18 Feb 2018   Prob (F-statistic):           2.90e-27\n",
      "Time:                        15:04:30   Log-Likelihood:                -15391.\n",
      "No. Observations:                3000   AIC:                         3.079e+04\n",
      "Df Residuals:                    2998   BIC:                         3.080e+04\n",
      "Df Model:                           1                                         \n",
      "Covariance Type:            nonrobust                                         \n",
      "==============================================================================\n",
      "                 coef    std err          t      P>|t|      [0.025      0.975]\n",
      "------------------------------------------------------------------------------\n",
      "Intercept     81.7047      2.846     28.706      0.000      76.124      87.286\n",
      "age            0.7073      0.065     10.923      0.000       0.580       0.834\n",
      "==============================================================================\n",
      "Omnibus:                     1065.217   Durbin-Watson:                   1.952\n",
      "Prob(Omnibus):                  0.000   Jarque-Bera (JB):             4518.235\n",
      "Skew:                           1.690   Prob(JB):                         0.00\n",
      "Kurtosis:                       7.972   Cond. No.                         168.\n",
      "==============================================================================\n",
      "\n",
      "Warnings:\n",
      "[1] Standard Errors assume that the covariance matrix of the errors is correctly specified.\n"
     ]
    }
   ],
   "source": [
    "lmresult = smf.ols('wage ~ age', data = wage).fit()\n",
    "print(lmresult.summary())"
   ]
  },
  {
   "cell_type": "code",
   "execution_count": 622,
   "metadata": {},
   "outputs": [
    {
     "data": {
      "text/plain": [
       "<seaborn.axisgrid.FacetGrid at 0x1c255f5eb8>"
      ]
     },
     "execution_count": 622,
     "metadata": {},
     "output_type": "execute_result"
    },
    {
     "data": {
      "image/png": "[encoded data removed]",
      "text/plain": [
       "<matplotlib.figure.Figure at 0x1c255f5cf8>"
      ]
     },
     "metadata": {},
     "output_type": "display_data"
    }
   ],
   "source": [
    "sns.lmplot(\"age\", \"wage\", data = wage, fit_reg = True, scatter_kws={'alpha':0.2})"
   ]
  },
  {
   "cell_type": "markdown",
   "metadata": {},
   "source": [
    "### 6 b. Regress Wage on Age, Jobclass, and their interaction (interpret the result)"
   ]
  },
  {
   "cell_type": "code",
   "execution_count": 623,
   "metadata": {},
   "outputs": [
    {
     "name": "stdout",
     "output_type": "stream",
     "text": [
      "                            OLS Regression Results                            \n",
      "==============================================================================\n",
      "Dep. Variable:                   wage   R-squared:                       0.075\n",
      "Model:                            OLS   Adj. R-squared:                  0.074\n",
      "Method:                 Least Squares   F-statistic:                     80.78\n",
      "Date:                Sun, 18 Feb 2018   Prob (F-statistic):           2.99e-50\n",
      "Time:                        15:39:34   Log-Likelihood:                -15333.\n",
      "No. Observations:                3000   AIC:                         3.067e+04\n",
      "Df Residuals:                    2996   BIC:                         3.070e+04\n",
      "Df Model:                           3                                         \n",
      "Covariance Type:            nonrobust                                         \n",
      "==================================================================================================\n",
      "                                     coef    std err          t      P>|t|      [0.025      0.975]\n",
      "--------------------------------------------------------------------------------------------------\n",
      "Intercept                         73.5283      3.761     19.548      0.000      66.153      80.903\n",
      "jobclass[T.2. Information]        22.7309      5.631      4.036      0.000      11.689      33.773\n",
      "age                                0.7197      0.087      8.230      0.000       0.548       0.891\n",
      "age:jobclass[T.2. Information]    -0.1602      0.128     -1.253      0.210      -0.411       0.091\n",
      "==============================================================================\n",
      "Omnibus:                     1028.176   Durbin-Watson:                   1.954\n",
      "Prob(Omnibus):                  0.000   Jarque-Bera (JB):             4251.953\n",
      "Skew:                           1.634   Prob(JB):                         0.00\n",
      "Kurtosis:                       7.830   Cond. No.                         433.\n",
      "==============================================================================\n",
      "\n",
      "Warnings:\n",
      "[1] Standard Errors assume that the covariance matrix of the errors is correctly specified.\n"
     ]
    }
   ],
   "source": [
    "lmresult1 = smf.ols('wage ~ age + jobclass + age*jobclass', data = wage).fit()\n",
    "print(lmresult1.summary())"
   ]
  },
  {
   "cell_type": "markdown",
   "metadata": {},
   "source": [
    "According to the regression 'wage ~ age + jobclass + age*jobclass', the coefficients for age and jobclass are 0.7197 and 22.7309 respectively, both of which are statistically significant with p-value 0.00. For age, an increase in age is associated with 0.7197 increase in wage, holding other factors constant. For jobclass, having a jobclass of \"Information\" is related to an 22.7309 increase in wage, holding other factors constant. Regarding the interaction term(age*jobclass), the coefficient is not significant. Therefore, from this regression model, the level change in wage due to age is not related to having a jobclass of \"Information\" or \"Industrial\"."
   ]
  },
  {
   "cell_type": "markdown",
   "metadata": {},
   "source": [
    "### 6 c. Regress Wage on fourth-degree polynomial in Age.(show the result and scatter plot) What did you learn?"
   ]
  },
  {
   "cell_type": "code",
   "execution_count": 668,
   "metadata": {
    "collapsed": true
   },
   "outputs": [],
   "source": [
    "from sklearn.preprocessing import PolynomialFeatures\n",
    "from sklearn.linear_model import LinearRegression"
   ]
  },
  {
   "cell_type": "code",
   "execution_count": 717,
   "metadata": {},
   "outputs": [
    {
     "name": "stdout",
     "output_type": "stream",
     "text": [
      "[ -1.84154180e+02   0.00000000e+00   2.12455205e+01  -5.63859313e-01\n",
      "   6.81068771e-03  -3.20383038e-05]\n"
     ]
    }
   ],
   "source": [
    "poly = PolynomialFeatures(degree=4)\n",
    "page = poly.fit_transform(wage.age.reshape(-1, 1))\n",
    "#Age has been transformed to [1, age, age^2, age^3, age^4], and can now be used within any linear model.\n",
    "lg = LinearRegression()\n",
    "lg.fit(page, wage.wage)\n",
    "params = np.append(lg.intercept_,lg.coef_)\n",
    "print(params)"
   ]
  },
  {
   "cell_type": "code",
   "execution_count": 701,
   "metadata": {},
   "outputs": [
    {
     "data": {
      "text/plain": [
       "<seaborn.axisgrid.FacetGrid at 0x1c27cb60f0>"
      ]
     },
     "execution_count": 701,
     "metadata": {},
     "output_type": "execute_result"
    },
    {
     "data": {
      "image/png": "[encoded data removed]",
      "text/plain": [
       "<matplotlib.figure.Figure at 0x1c27c4a668>"
      ]
     },
     "metadata": {},
     "output_type": "display_data"
    }
   ],
   "source": [
    "sns.lmplot(\"age\", \"wage\", data = wage, order=4, fit_reg = True, scatter_kws={'alpha':0.2})"
   ]
  },
  {
   "cell_type": "markdown",
   "metadata": {},
   "source": [
    "From the result, we can see that the relationship between age and wage is not linear. From age 20 to 30, the trend of wage increased and stablized at age 20 to 60. After age of 60, the wage started to reduce."
   ]
  },
  {
   "cell_type": "markdown",
   "metadata": {},
   "source": [
    "### 6 d. Regress Wage on all variables and all the 2-way interactions."
   ]
  },
  {
   "cell_type": "code",
   "execution_count": 719,
   "metadata": {},
   "outputs": [
    {
     "data": {
      "text/plain": [
       "Index(['year', 'age', 'sex', 'maritl', 'race', 'education', 'region',\n",
       "       'jobclass', 'health', 'health_ins', 'logwage', 'wage'],\n",
       "      dtype='object')"
      ]
     },
     "execution_count": 719,
     "metadata": {},
     "output_type": "execute_result"
    }
   ],
   "source": [
    "wage.columns"
   ]
  },
  {
   "cell_type": "code",
   "execution_count": 913,
   "metadata": {
    "collapsed": true
   },
   "outputs": [],
   "source": [
    "X = wage[['year', 'age', 'maritl', 'race', 'education', 'jobclass', 'health', 'health_ins']]"
   ]
  },
  {
   "cell_type": "code",
   "execution_count": 922,
   "metadata": {
    "collapsed": true
   },
   "outputs": [],
   "source": [
    "Y = wage['wage']"
   ]
  },
  {
   "cell_type": "code",
   "execution_count": 923,
   "metadata": {
    "collapsed": true
   },
   "outputs": [],
   "source": [
    "#One-Hot encoding\n",
    "m = pd.get_dummies(X.maritl)\n",
    "r = pd.get_dummies(X.race)\n",
    "e = pd.get_dummies(X.education)\n",
    "j = pd.get_dummies(X.jobclass)\n",
    "h = pd.get_dummies(X.health)\n",
    "hi = pd.get_dummies(X.health_ins)"
   ]
  },
  {
   "cell_type": "code",
   "execution_count": 924,
   "metadata": {
    "collapsed": true
   },
   "outputs": [],
   "source": [
    "newX = X[['year', 'age']]"
   ]
  },
  {
   "cell_type": "code",
   "execution_count": 925,
   "metadata": {
    "collapsed": true
   },
   "outputs": [],
   "source": [
    "alldata = newX.join(m).join(r).join(e).join(j).join(h).join(hi)"
   ]
  },
  {
   "cell_type": "code",
   "execution_count": 926,
   "metadata": {
    "collapsed": true
   },
   "outputs": [],
   "source": [
    "interaction = PolynomialFeatures(degree=2, interaction_only= True, include_bias = True)"
   ]
  },
  {
   "cell_type": "code",
   "execution_count": 929,
   "metadata": {
    "collapsed": true
   },
   "outputs": [],
   "source": [
    "interX= interaction.fit_transform(alldata)"
   ]
  },
  {
   "cell_type": "code",
   "execution_count": 937,
   "metadata": {},
   "outputs": [
    {
     "name": "stdout",
     "output_type": "stream",
     "text": [
      "                            OLS Regression Results                            \n",
      "==============================================================================\n",
      "Dep. Variable:                   wage   R-squared:                       0.372\n",
      "Model:                            OLS   Adj. R-squared:                  0.346\n",
      "Method:                 Least Squares   F-statistic:                     14.19\n",
      "Date:                Sun, 18 Feb 2018   Prob (F-statistic):          7.18e-210\n",
      "Time:                        19:55:36   Log-Likelihood:                -14753.\n",
      "No. Observations:                3000   AIC:                         2.975e+04\n",
      "Df Residuals:                    2879   BIC:                         3.047e+04\n",
      "Df Model:                         120                                         \n",
      "Covariance Type:            nonrobust                                         \n",
      "===================================================================================================\n",
      "                                      coef    std err          t      P>|t|      [0.025      0.975]\n",
      "---------------------------------------------------------------------------------------------------\n",
      "Intercept                        -788.2398    748.345     -1.053      0.292   -2255.587     679.107\n",
      "maritl[T.2. Married]             -302.1177    999.744     -0.302      0.763   -2262.404    1658.168\n",
      "maritl[T.3. Widowed]             -408.6636   4706.013     -0.087      0.931   -9636.158    8818.831\n",
      "maritl[T.4. Divorced]            -212.5075   1114.036     -0.191      0.849   -2396.897    1971.882\n",
      "maritl[T.5. Separated]           -124.0977   1357.598     -0.091      0.927   -2786.060    2537.865\n",
      "race[T.2. Black]                 -859.7113    577.493     -1.489      0.137   -1992.053     272.630\n",
      "race[T.3. Asian]                  618.6459    616.491      1.003      0.316    -590.162    1827.454\n",
      "race[T.4. Other]                  448.9475   1225.702      0.366      0.714   -1954.394    2852.289\n",
      "education[T.2. HS Grad]          -188.1511    316.262     -0.595      0.552    -808.273     431.971\n",
      "education[T.3. Some College]      203.3155    355.557      0.572      0.567    -493.856     900.487\n",
      "education[T.4. College Grad]      230.3314    351.780      0.655      0.513    -459.434     920.097\n",
      "education[T.5. Advanced Degree]  -843.8257    427.927     -1.972      0.049   -1682.900      -4.751\n",
      "jobclass[T.2. Information]       -476.6152    379.980     -1.254      0.210   -1221.675     268.445\n",
      "health[T.2. >=Very Good]          -22.3958    363.712     -0.062      0.951    -735.559     690.767\n",
      "health_ins[T.2. No]                 4.0866    375.621      0.011      0.991    -732.427     740.600\n",
      "age                                25.4642     14.963      1.702      0.089      -3.875      54.803\n",
      "year                                0.6410      0.671      0.955      0.340      -0.676       1.958\n",
      "interX[0]                        -788.2398    748.345     -1.053      0.292   -2255.587     679.107\n",
      "interX[1]                           0.6410      0.671      0.955      0.340      -0.676       1.958\n",
      "interX[2]                          25.4642     14.963      1.702      0.089      -3.875      54.803\n",
      "interX[3]                         259.1467   1363.406      0.190      0.849   -2414.205    2932.498\n",
      "interX[4]                        -302.1177    999.744     -0.302      0.763   -2262.404    1658.168\n",
      "interX[5]                        -408.6636   4706.013     -0.087      0.931   -9636.158    8818.831\n",
      "interX[6]                        -212.5075   1114.036     -0.191      0.849   -2396.897    1971.882\n",
      "interX[7]                        -124.0977   1357.598     -0.091      0.927   -2786.060    2537.865\n",
      "interX[8]                        -996.1220    547.383     -1.820      0.069   -2069.423      77.179\n",
      "interX[9]                        -859.7113    577.493     -1.489      0.137   -1992.053     272.630\n",
      "interX[10]                        618.6459    616.491      1.003      0.316    -590.162    1827.454\n",
      "interX[11]                        448.9475   1225.702      0.366      0.714   -1954.394    2852.289\n",
      "interX[12]                       -189.9099    601.906     -0.316      0.752   -1370.120     990.300\n",
      "interX[13]                       -188.1511    316.262     -0.595      0.552    -808.273     431.971\n",
      "interX[14]                        203.3155    355.557      0.572      0.567    -493.856     900.487\n",
      "interX[15]                        230.3314    351.780      0.655      0.513    -459.434     920.097\n",
      "interX[16]                       -843.8257    427.927     -1.972      0.049   -1682.900      -4.751\n",
      "interX[17]                       -311.6246    480.837     -0.648      0.517   -1254.444     631.195\n",
      "interX[18]                       -476.6152    379.980     -1.254      0.210   -1221.675     268.445\n",
      "interX[19]                       -765.8440    516.403     -1.483      0.138   -1778.401     246.713\n",
      "interX[20]                        -22.3958    363.712     -0.062      0.951    -735.559     690.767\n",
      "interX[21]                       -792.3264    497.176     -1.594      0.111   -1767.183     182.531\n",
      "interX[22]                          4.0866    375.621      0.011      0.991    -732.427     740.600\n",
      "interX[23]                         -0.0525      0.031     -1.695      0.090      -0.113       0.008\n",
      "interX[24]                         -0.5888      2.260     -0.261      0.794      -5.020       3.842\n",
      "interX[25]                          0.3979      2.202      0.181      0.857      -3.919       4.715\n",
      "interX[26]                          0.5888      9.008      0.065      0.948     -17.074      18.252\n",
      "interX[27]                          0.2126      2.390      0.089      0.929      -4.473       4.898\n",
      "interX[28]                          0.0305      2.868      0.011      0.992      -5.593       5.654\n",
      "interX[29]                          1.3514      0.855      1.580      0.114      -0.326       3.028\n",
      "interX[30]                          1.5767      1.131      1.394      0.163      -0.640       3.794\n",
      "interX[31]                         -1.2960      1.202     -1.078      0.281      -3.653       1.061\n",
      "interX[32]                         -0.9911      2.308     -0.429      0.668      -5.517       3.535\n",
      "interX[33]                          0.1093      0.900      0.121      0.903      -1.656       1.875\n",
      "interX[34]                          0.2072      0.567      0.365      0.715      -0.906       1.320\n",
      "interX[35]                         -0.5717      0.647     -0.883      0.377      -1.841       0.698\n",
      "interX[36]                         -0.6146      0.631     -0.974      0.330      -1.851       0.622\n",
      "interX[37]                          1.5108      0.777      1.945      0.052      -0.013       3.034\n",
      "interX[38]                          0.0906      0.466      0.194      0.846      -0.824       1.005\n",
      "interX[39]                          0.5504      0.477      1.154      0.248      -0.384       1.485\n",
      "interX[40]                          0.8087      0.516      1.567      0.117      -0.203       1.821\n",
      "interX[41]                         -0.1677      0.466     -0.360      0.719      -1.082       0.746\n",
      "interX[42]                          0.8532      0.490      1.743      0.082      -0.107       1.813\n",
      "interX[43]                         -0.2123      0.478     -0.444      0.657      -1.150       0.725\n",
      "interX[44]                          5.1683      3.033      1.704      0.089      -0.780      11.116\n",
      "interX[45]                          4.9474      3.029      1.634      0.102      -0.991      10.886\n",
      "interX[46]                          5.3373      3.408      1.566      0.117      -1.345      12.020\n",
      "interX[47]                          4.8010      3.026      1.586      0.113      -1.133      10.735\n",
      "interX[48]                          5.2102      3.058      1.704      0.089      -0.786      11.207\n",
      "interX[49]                          6.3280      3.738      1.693      0.091      -1.001      13.657\n",
      "interX[50]                          6.3320      3.751      1.688      0.092      -1.023      13.687\n",
      "interX[51]                          6.2620      3.762      1.665      0.096      -1.114      13.638\n",
      "interX[52]                          6.5422      3.758      1.741      0.082      -0.827      13.911\n",
      "interX[53]                          4.8048      2.994      1.605      0.109      -1.065      10.675\n",
      "interX[54]                          4.8834      2.992      1.632      0.103      -0.984      10.750\n",
      "interX[55]                          5.4596      2.993      1.824      0.068      -0.409      11.328\n",
      "interX[56]                          4.9719      2.999      1.658      0.097      -0.909      10.852\n",
      "interX[57]                          5.3445      3.002      1.780      0.075      -0.542      11.231\n",
      "interX[58]                         12.7259      7.485      1.700      0.089      -1.951      27.402\n",
      "interX[59]                         12.7383      7.479      1.703      0.089      -1.925      27.402\n",
      "interX[60]                         12.5751      7.483      1.681      0.093      -2.097      27.247\n",
      "interX[61]                         12.8891      7.481      1.723      0.085      -1.780      27.558\n",
      "interX[62]                         12.6513      7.480      1.691      0.091      -2.015      27.317\n",
      "interX[63]                         12.8129      7.484      1.712      0.087      -1.861      27.487\n",
      "interX[64]                      -1.109e-10   1.07e-09     -0.104      0.917   -2.21e-09    1.99e-09\n",
      "interX[65]                      -2.441e-11   1.57e-10     -0.155      0.877   -3.33e-10    2.84e-10\n",
      "interX[66]                      -1.911e-10   9.83e-10     -0.194      0.846   -2.12e-09    1.74e-09\n",
      "interX[67]                      -1.002e-11   1.45e-10     -0.069      0.945   -2.94e-10    2.73e-10\n",
      "interX[68]                       -111.9375    343.166     -0.326      0.744    -784.814     560.939\n",
      "interX[69]                        -72.6369    355.648     -0.204      0.838    -769.988     624.714\n",
      "interX[70]                        222.1664    355.532      0.625      0.532    -474.957     919.290\n",
      "interX[71]                        221.5547    490.735      0.451      0.652    -740.672    1183.781\n",
      "interX[72]                         59.8925    287.809      0.208      0.835    -504.440     624.225\n",
      "interX[73]                         46.2280    284.334      0.163      0.871    -511.291     603.747\n",
      "interX[74]                        133.3656    280.435      0.476      0.634    -416.509     683.240\n",
      "interX[75]                        131.2219    280.264      0.468      0.640    -418.317     680.760\n",
      "interX[76]                       -111.5612    288.433     -0.387      0.699    -677.118     453.996\n",
      "interX[77]                        145.0869    673.967      0.215      0.830   -1176.419    1466.593\n",
      "interX[78]                        114.0598    692.207      0.165      0.869   -1243.211    1471.330\n",
      "interX[79]                         53.2071    678.545      0.078      0.938   -1277.275    1383.689\n",
      "interX[80]                        205.9396    688.252      0.299      0.765   -1143.577    1555.456\n",
      "interX[81]                         51.3704    675.504      0.076      0.939   -1273.151    1375.891\n",
      "interX[82]                        207.7763    690.989      0.301      0.764   -1147.108    1562.660\n",
      "interX[83]                       2.067e-11   4.47e-11      0.462      0.644   -6.71e-11    1.08e-10\n",
      "interX[84]                       4.854e-12   1.24e-10      0.039      0.969   -2.39e-10    2.48e-10\n",
      "interX[85]                       -1.39e-11   1.14e-10     -0.122      0.903   -2.37e-10     2.1e-10\n",
      "interX[86]                       -246.1097    260.554     -0.945      0.345    -757.001     264.781\n",
      "interX[87]                       -212.6424    276.129     -0.770      0.441    -754.073     328.788\n",
      "interX[88]                         80.5029    272.081      0.296      0.767    -452.991     613.996\n",
      "interX[89]                         76.1317    423.210      0.180      0.857    -753.693     905.956\n",
      "interX[90]                        -58.9275    224.508     -0.262      0.793    -499.141     381.286\n",
      "interX[91]                        -68.4282    213.678     -0.320      0.749    -487.406     350.550\n",
      "interX[92]                         15.6524    210.695      0.074      0.941    -397.476     428.781\n",
      "interX[93]                         20.6833    209.990      0.098      0.922    -391.064     432.430\n",
      "interX[94]                       -211.0976    218.042     -0.968      0.333    -638.631     216.436\n",
      "interX[95]                       -133.6521    493.060     -0.271      0.786   -1100.438     833.134\n",
      "interX[96]                       -168.4655    510.452     -0.330      0.741   -1169.354     832.423\n",
      "interX[97]                       -226.2797    499.609     -0.453      0.651   -1205.906     753.347\n",
      "interX[98]                        -75.8379    504.776     -0.150      0.881   -1065.597     913.921\n",
      "interX[99]                       -228.8589    494.734     -0.463      0.644   -1198.927     741.209\n",
      "interX[100]                       -73.2588    509.214     -0.144      0.886   -1071.720     925.203\n",
      "interX[101]                     -1.127e-12    6.3e-12     -0.179      0.858   -1.35e-11    1.12e-11\n",
      "interX[102]                      1.789e-14    1.6e-13      0.112      0.911   -2.95e-13    3.31e-13\n",
      "interX[103]                      -260.6203   1213.084     -0.215      0.830   -2639.221    2117.981\n",
      "interX[104]                      -264.9561   1209.995     -0.219      0.827   -2637.499    2107.587\n",
      "interX[105]                        56.5185   1211.820      0.047      0.963   -2319.604    2432.641\n",
      "interX[106]                        60.3944   1135.916      0.053      0.958   -2166.897    2287.686\n",
      "interX[107]                      -107.5804    940.243     -0.114      0.909   -1951.198    1736.038\n",
      "interX[108]                       -68.3117    960.075     -0.071      0.943   -1950.816    1814.193\n",
      "interX[109]                        -6.8524    941.161     -0.007      0.994   -1852.270    1838.566\n",
      "interX[110]                         0.2354    930.164      0.000      1.000   -1823.618    1824.089\n",
      "interX[111]                      -226.1545    954.740     -0.237      0.813   -2098.198    1645.889\n",
      "interX[112]                      -191.7046   2361.170     -0.081      0.935   -4821.460    4438.051\n",
      "interX[113]                      -216.9590   2345.947     -0.092      0.926   -4816.864    4382.946\n",
      "interX[114]                      -277.2909   2378.252     -0.117      0.907   -4940.540    4385.958\n",
      "interX[115]                      -131.3727   2328.899     -0.056      0.955   -4697.850    4435.104\n",
      "interX[116]                      -292.6955   2367.616     -0.124      0.902   -4935.089    4349.698\n",
      "interX[117]                      -115.9681   2339.360     -0.050      0.960   -4702.957    4471.021\n",
      "interX[118]                              0          0        nan        nan           0           0\n",
      "interX[119]                      -214.8270    288.665     -0.744      0.457    -780.837     351.183\n",
      "interX[120]                      -188.8421    300.770     -0.628      0.530    -778.589     400.905\n",
      "interX[121]                       100.2948    300.874      0.333      0.739    -489.655     690.245\n",
      "interX[122]                        90.8668    441.098      0.206      0.837    -774.032     955.766\n",
      "interX[123]                       -29.2725    247.082     -0.118      0.906    -513.749     455.204\n",
      "interX[124]                       -46.8423    233.729     -0.200      0.841    -505.136     411.451\n",
      "interX[125]                        35.5047    231.060      0.154      0.878    -417.555     488.564\n",
      "interX[126]                        43.2576    231.646      0.187      0.852    -410.951     497.466\n",
      "interX[127]                      -215.1550    240.454     -0.895      0.371    -686.635     256.325\n",
      "interX[128]                       -91.9431    551.574     -0.167      0.868   -1173.463     989.576\n",
      "interX[129]                      -120.5644    565.893     -0.213      0.831   -1230.161     989.033\n",
      "interX[130]                      -180.4553    555.052     -0.325      0.745   -1268.795     907.884\n",
      "interX[131]                       -32.0522    563.143     -0.057      0.955   -1136.257    1072.152\n",
      "interX[132]                      -178.8974    553.161     -0.323      0.746   -1263.530     905.735\n",
      "interX[133]                       -33.6101    564.670     -0.060      0.953   -1140.809    1073.589\n",
      "interX[134]                      -162.6274    455.194     -0.357      0.721   -1055.167     729.913\n",
      "interX[135]                      -120.6338    460.446     -0.262      0.793   -1023.472     782.204\n",
      "interX[136]                       159.1634    466.683      0.341      0.733    -755.904    1074.231\n",
      "interX[137]                              0          0        nan        nan           0           0\n",
      "interX[138]                       -54.0219    287.163     -0.188      0.851    -617.088     509.045\n",
      "interX[139]                       -50.7968    279.893     -0.181      0.856    -599.608     498.014\n",
      "interX[140]                        25.6452    279.077      0.092      0.927    -521.566     572.856\n",
      "interX[141]                        34.9332    281.022      0.124      0.901    -516.092     585.958\n",
      "interX[142]                       -79.8574    290.234     -0.275      0.783    -648.945     489.230\n",
      "interX[143]                       -39.4116    677.820     -0.058      0.954   -1368.472    1289.649\n",
      "interX[144]                       -84.6861    682.692     -0.124      0.901   -1423.300    1253.928\n",
      "interX[145]                      -135.0252    679.578     -0.199      0.843   -1467.533    1197.483\n",
      "interX[146]                        10.9274    681.494      0.016      0.987   -1325.339    1347.194\n",
      "interX[147]                      -143.2450    677.804     -0.211      0.833   -1472.275    1185.785\n",
      "interX[148]                        19.1473    683.001      0.028      0.978   -1320.073    1358.368\n",
      "interX[149]                              0          0        nan        nan           0           0\n",
      "interX[150]                              0          0        nan        nan           0           0\n",
      "interX[151]                              0          0        nan        nan           0           0\n",
      "interX[152]                      -212.4047    186.293     -1.140      0.254    -577.686     152.877\n",
      "interX[153]                      -209.9535    127.525     -1.646      0.100    -460.003      40.095\n",
      "interX[154]                      -113.3213    136.853     -0.828      0.408    -381.662     155.019\n",
      "interX[155]                       -96.9391    132.039     -0.734      0.463    -355.839     161.961\n",
      "interX[156]                      -363.5034    147.786     -2.460      0.014    -653.281     -73.726\n",
      "interX[157]                      -475.2409    278.898     -1.704      0.088   -1022.101      71.619\n",
      "interX[158]                      -520.8811    279.285     -1.865      0.062   -1068.501      26.739\n",
      "interX[159]                      -591.9693    286.807     -2.064      0.039   -1154.338     -29.601\n",
      "interX[160]                      -404.1527    273.832     -1.476      0.140    -941.080     132.775\n",
      "interX[161]                      -598.3117    280.833     -2.130      0.033   -1148.966     -47.657\n",
      "interX[162]                      -397.8103    278.773     -1.427      0.154    -944.425     148.804\n",
      "interX[163]                              0          0        nan        nan           0           0\n",
      "interX[164]                              0          0        nan        nan           0           0\n",
      "interX[165]                      -179.8004    187.288     -0.960      0.337    -547.032     187.431\n",
      "interX[166]                      -177.8001    130.852     -1.359      0.174    -434.374      78.774\n",
      "interX[167]                       -86.2591    134.345     -0.642      0.521    -349.681     177.163\n",
      "interX[168]                       -73.8106    143.967     -0.513      0.608    -356.099     208.478\n",
      "interX[169]                      -342.0411    157.870     -2.167      0.030    -651.590     -32.492\n",
      "interX[170]                      -409.1540    300.871     -1.360      0.174    -999.097     180.789\n",
      "interX[171]                      -450.5573    286.722     -1.571      0.116   -1012.758     111.644\n",
      "interX[172]                      -521.1122    300.311     -1.735      0.083   -1109.959      67.735\n",
      "interX[173]                      -338.5991    289.826     -1.168      0.243    -906.887     229.689\n",
      "interX[174]                      -530.7840    296.873     -1.788      0.074   -1112.890      51.322\n",
      "interX[175]                      -328.9272    292.250     -1.125      0.260    -901.968     244.114\n",
      "interX[176]                              0          0        nan        nan           0           0\n",
      "interX[177]                       108.8329    195.482      0.557      0.578    -274.465     492.131\n",
      "interX[178]                       110.1911    146.879      0.750      0.453    -177.808     398.191\n",
      "interX[179]                       204.1474    152.988      1.334      0.182     -95.829     504.124\n",
      "interX[180]                       235.9105    142.213      1.659      0.097     -42.939     514.760\n",
      "interX[181]                       -40.4359    147.950     -0.273      0.785    -330.535     249.664\n",
      "interX[182]                       329.8795    315.982      1.044      0.297    -289.694     949.453\n",
      "interX[183]                       288.7665    310.131      0.931      0.352    -319.334     896.867\n",
      "interX[184]                       212.1570    319.699      0.664      0.507    -414.705     839.019\n",
      "interX[185]                       406.4890    308.725      1.317      0.188    -198.855    1011.833\n",
      "interX[186]                       209.5519    317.329      0.660      0.509    -412.663     831.767\n",
      "interX[187]                       409.0940    310.043      1.319      0.187    -198.834    1017.022\n",
      "interX[188]                        93.4623    279.572      0.334      0.738    -454.720     641.645\n",
      "interX[189]                        89.4114    254.210      0.352      0.725    -409.040     587.863\n",
      "interX[190]                       198.7484    258.810      0.768      0.443    -308.724     706.221\n",
      "interX[191]                       165.1707    260.993      0.633      0.527    -346.581     676.923\n",
      "interX[192]                       -97.8454    268.822     -0.364      0.716    -624.948     429.257\n",
      "interX[193]                       242.8909    621.061      0.391      0.696    -974.878    1460.660\n",
      "interX[194]                       206.0567    609.510      0.338      0.735    -989.064    1401.177\n",
      "interX[195]                       135.0806    620.971      0.218      0.828   -1082.513    1352.674\n",
      "interX[196]                       313.8670    610.764      0.514      0.607    -883.711    1511.445\n",
      "interX[197]                       127.2174    622.098      0.204      0.838   -1092.585    1347.020\n",
      "interX[198]                       321.7301    609.072      0.528      0.597    -872.532    1515.992\n",
      "interX[199]                              0          0        nan        nan           0           0\n",
      "interX[200]                              0          0        nan        nan           0           0\n",
      "interX[201]                              0          0        nan        nan           0           0\n",
      "interX[202]                              0          0        nan        nan           0           0\n",
      "interX[203]                       -77.3281    302.621     -0.256      0.798    -670.704     516.048\n",
      "interX[204]                      -112.5818    305.607     -0.368      0.713    -711.812     486.649\n",
      "interX[205]                      -167.9695    307.418     -0.546      0.585    -770.751     434.812\n",
      "interX[206]                       -21.9403    302.319     -0.073      0.942    -614.724     570.843\n",
      "interX[207]                      -176.4343    314.975     -0.560      0.575    -794.033     441.165\n",
      "interX[208]                       -13.4756    293.717     -0.046      0.963    -589.393     562.441\n",
      "interX[209]                              0          0        nan        nan           0           0\n",
      "interX[210]                              0          0        nan        nan           0           0\n",
      "interX[211]                              0          0        nan        nan           0           0\n",
      "interX[212]                       -74.8593    162.710     -0.460      0.645    -393.899     244.181\n",
      "interX[213]                      -113.2918    165.422     -0.685      0.493    -437.649     211.065\n",
      "interX[214]                      -168.1187    169.115     -0.994      0.320    -499.718     163.480\n",
      "interX[215]                       -20.0323    161.787     -0.124      0.901    -337.262     297.197\n",
      "interX[216]                      -175.2973    170.161     -1.030      0.303    -508.948     158.353\n",
      "interX[217]                       -12.8538    159.323     -0.081      0.936    -325.253     299.546\n",
      "interX[218]                              0          0        nan        nan           0           0\n",
      "interX[219]                              0          0        nan        nan           0           0\n",
      "interX[220]                       119.9264    185.495      0.647      0.518    -243.789     483.642\n",
      "interX[221]                        83.3891    180.618      0.462      0.644    -270.764     437.542\n",
      "interX[222]                        28.1351    189.565      0.148      0.882    -343.561     399.832\n",
      "interX[223]                       175.1803    178.976      0.979      0.328    -175.754     526.115\n",
      "interX[224]                        18.7361    186.795      0.100      0.920    -347.529     385.001\n",
      "interX[225]                       184.5794    180.686      1.022      0.307    -169.707     538.866\n",
      "interX[226]                              0          0        nan        nan           0           0\n",
      "interX[227]                       131.7926    190.494      0.692      0.489    -241.725     505.310\n",
      "interX[228]                        98.5388    171.502      0.575      0.566    -237.740     434.817\n",
      "interX[229]                        40.3078    193.636      0.208      0.835    -339.371     419.987\n",
      "interX[230]                       190.0236    170.694      1.113      0.266    -144.671     524.719\n",
      "interX[231]                        39.1986    182.780      0.214      0.830    -319.194     397.591\n",
      "interX[232]                       191.1328    181.100      1.055      0.291    -163.966     546.232\n",
      "interX[233]                      -411.1562    231.124     -1.779      0.075    -864.342      42.030\n",
      "interX[234]                      -432.6695    204.885     -2.112      0.035    -834.406     -30.933\n",
      "interX[235]                      -498.1987    229.475     -2.171      0.030    -948.150     -48.248\n",
      "interX[236]                      -345.6270    209.008     -1.654      0.098    -755.448      64.194\n",
      "interX[237]                      -498.5295    220.814     -2.258      0.024    -931.499     -65.560\n",
      "interX[238]                      -345.2962    217.163     -1.590      0.112    -771.107      80.514\n",
      "interX[239]                              0          0        nan        nan           0           0\n",
      "interX[240]                      -341.6772    303.101     -1.127      0.260    -935.995     252.640\n",
      "interX[241]                        30.0526    231.268      0.130      0.897    -423.415     483.521\n",
      "interX[242]                      -355.1732    297.353     -1.194      0.232    -938.219     227.872\n",
      "interX[243]                        43.5486    232.925      0.187      0.852    -413.168     500.265\n",
      "interX[244]                      -424.1668    255.664     -1.659      0.097    -925.471      77.137\n",
      "interX[245]                       -52.4484    191.184     -0.274      0.784    -427.319     322.422\n",
      "interX[246]                      -437.1532    243.022     -1.799      0.072    -913.669      39.362\n",
      "interX[247]                       -39.4620    200.491     -0.197      0.844    -432.582     353.658\n",
      "interX[248]                              0          0        nan        nan           0           0\n",
      "interX[249]                      -581.9384    312.735     -1.861      0.063   -1195.146      31.269\n",
      "interX[250]                      -183.9056    250.198     -0.735      0.462    -674.492     306.680\n",
      "interX[251]                      -210.3880    235.640     -0.893      0.372    -672.428     251.652\n",
      "interX[252]                       187.9922    194.127      0.968      0.333    -192.650     568.635\n",
      "interX[253]                              0          0        nan        nan           0           0\n",
      "==============================================================================\n",
      "Omnibus:                     1102.563   Durbin-Watson:                   1.955\n",
      "Prob(Omnibus):                  0.000   Jarque-Bera (JB):             6610.037\n",
      "Skew:                           1.623   Prob(JB):                         0.00\n",
      "Kurtosis:                       9.507   Cond. No.                     1.04e+16\n",
      "==============================================================================\n",
      "\n",
      "Warnings:\n",
      "[1] Standard Errors assume that the covariance matrix of the errors is correctly specified.\n",
      "[2] The smallest eigenvalue is 2.17e-19. This might indicate that there are\n",
      "strong multicollinearity problems or that the design matrix is singular.\n"
     ]
    }
   ],
   "source": [
    "wage.index = range(3000)\n",
    "lmresult2 = smf.ols('wage ~ age + year + maritl + race + education + jobclass + health + health_ins + interX', data = wage).fit()\n",
    "print(lmresult2.summary())"
   ]
  },
  {
   "cell_type": "markdown",
   "metadata": {},
   "source": [
    "### 6 e. Run Lasso regression to enforce regularization with λ =0.04. Compare result with part (d) by scatter plot where x is the coefficient from unregularized linear regression and y is the corresponding coefficient from Lasso."
   ]
  },
  {
   "cell_type": "code",
   "execution_count": 905,
   "metadata": {
    "collapsed": true
   },
   "outputs": [],
   "source": [
    "from sklearn import linear_model\n",
    "lasso = linear_model.Lasso(alpha=0.04)"
   ]
  },
  {
   "cell_type": "code",
   "execution_count": 906,
   "metadata": {},
   "outputs": [
    {
     "data": {
      "text/plain": [
       "Lasso(alpha=0.04, copy_X=True, fit_intercept=True, max_iter=1000,\n",
       "   normalize=False, positive=False, precompute=False, random_state=None,\n",
       "   selection='cyclic', tol=0.0001, warm_start=False)"
      ]
     },
     "execution_count": 906,
     "metadata": {},
     "output_type": "execute_result"
    }
   ],
   "source": [
    "lasso"
   ]
  },
  {
   "cell_type": "code",
   "execution_count": 907,
   "metadata": {},
   "outputs": [
    {
     "data": {
      "text/plain": [
       "Lasso(alpha=0.04, copy_X=True, fit_intercept=True, max_iter=1000,\n",
       "   normalize=False, positive=False, precompute=False, random_state=None,\n",
       "   selection='cyclic', tol=0.0001, warm_start=False)"
      ]
     },
     "execution_count": 907,
     "metadata": {},
     "output_type": "execute_result"
    }
   ],
   "source": [
    "lasso.fit(alldata, wage.wage, check_input=True)"
   ]
  },
  {
   "cell_type": "code",
   "execution_count": 908,
   "metadata": {},
   "outputs": [
    {
     "data": {
      "text/plain": [
       "array([  1.23539672,   0.27381028,  -4.11019142,  12.87777491,\n",
       "        -0.        ,  -0.        ,   4.93515915,   3.29437778,\n",
       "        -1.36064223,   0.        ,  -0.        , -17.91175785,\n",
       "       -10.46593083,  -0.        ,  12.82344507,  35.45343906,\n",
       "        -3.51785422,   0.        ,  -6.43581939,   0.        ,\n",
       "        17.4217917 ,  -0.        ])"
      ]
     },
     "execution_count": 908,
     "metadata": {},
     "output_type": "execute_result"
    }
   ],
   "source": [
    "lasso.coef_"
   ]
  },
  {
   "cell_type": "code",
   "execution_count": 909,
   "metadata": {
    "collapsed": true
   },
   "outputs": [],
   "source": [
    "df = pd.DataFrame(interX) \n",
    "alldata.index = range(3000)\n",
    "alldf= alldata.join(df)"
   ]
  },
  {
   "cell_type": "code",
   "execution_count": 910,
   "metadata": {},
   "outputs": [
    {
     "data": {
      "text/plain": [
       "Lasso(alpha=0.04, copy_X=True, fit_intercept=True, max_iter=1000,\n",
       "   normalize=False, positive=False, precompute=False, random_state=None,\n",
       "   selection='cyclic', tol=0.0001, warm_start=False)"
      ]
     },
     "execution_count": 910,
     "metadata": {},
     "output_type": "execute_result"
    }
   ],
   "source": [
    "lasso.fit(alldf, wage.wage, check_input= True)"
   ]
  },
  {
   "cell_type": "code",
   "execution_count": 963,
   "metadata": {},
   "outputs": [
    {
     "data": {
      "text/plain": [
       "<matplotlib.collections.PathCollection at 0x1c485b82e8>"
      ]
     },
     "execution_count": 963,
     "metadata": {},
     "output_type": "execute_result"
    },
    {
     "data": {
      "image/png": "[encoded data removed]",
      "text/plain": [
       "<matplotlib.figure.Figure at 0x1c483a81d0>"
      ]
     },
     "metadata": {},
     "output_type": "display_data"
    }
   ],
   "source": [
    "lacoef = lasso.coef_\n",
    "lcoef = lmresult4.params\n",
    "plt.scatter(lcoef,lacoef[0:271],alpha=0.2)"
   ]
  },
  {
   "cell_type": "markdown",
   "metadata": {},
   "source": [
    "From the scatter plot, we can see that lots of the Lasso's coefficients collapse to 0 compared to unregularized linear regression. "
   ]
  },
  {
   "cell_type": "markdown",
   "metadata": {},
   "source": [
    "### 7. Naive Bayes"
   ]
  },
  {
   "cell_type": "code",
   "execution_count": 965,
   "metadata": {
    "collapsed": true
   },
   "outputs": [],
   "source": [
    "voc = pd.read_csv(\"vocabulary.csv\")\n",
    "xtrain = pd.read_csv(\"XTrain.csv\")\n",
    "ytrain = pd.read_csv(\"yTrain.csv\")\n",
    "xtest = pd.read_csv(\"XTest.csv\")\n",
    "ytest = pd.read_csv(\"yTest.csv\")"
   ]
  },
  {
   "cell_type": "code",
   "execution_count": 981,
   "metadata": {},
   "outputs": [
    {
     "name": "stdout",
     "output_type": "stream",
     "text": [
      "<class 'pandas.core.frame.DataFrame'>\n",
      "RangeIndex: 26047 entries, 0 to 26046\n",
      "Data columns (total 1 columns):\n",
      "after    26047 non-null object\n",
      "dtypes: object(1)\n",
      "memory usage: 203.6+ KB\n"
     ]
    },
    {
     "data": {
      "text/html": [
       "<div>\n",
       "<style>\n",
       "    .dataframe thead tr:only-child th {\n",
       "        text-align: right;\n",
       "    }\n",
       "\n",
       "    .dataframe thead th {\n",
       "        text-align: left;\n",
       "    }\n",
       "\n",
       "    .dataframe tbody tr th {\n",
       "        vertical-align: top;\n",
       "    }\n",
       "</style>\n",
       "<table border=\"1\" class=\"dataframe\">\n",
       "  <thead>\n",
       "    <tr style=\"text-align: right;\">\n",
       "      <th></th>\n",
       "      <th>after</th>\n",
       "    </tr>\n",
       "  </thead>\n",
       "  <tbody>\n",
       "    <tr>\n",
       "      <th>count</th>\n",
       "      <td>26047</td>\n",
       "    </tr>\n",
       "    <tr>\n",
       "      <th>unique</th>\n",
       "      <td>26047</td>\n",
       "    </tr>\n",
       "    <tr>\n",
       "      <th>top</th>\n",
       "      <td>implement</td>\n",
       "    </tr>\n",
       "    <tr>\n",
       "      <th>freq</th>\n",
       "      <td>1</td>\n",
       "    </tr>\n",
       "  </tbody>\n",
       "</table>\n",
       "</div>"
      ],
      "text/plain": [
       "            after\n",
       "count       26047\n",
       "unique      26047\n",
       "top     implement\n",
       "freq            1"
      ]
     },
     "execution_count": 981,
     "metadata": {},
     "output_type": "execute_result"
    }
   ],
   "source": [
    "voc.head()\n",
    "voc.info()\n",
    "len(voc) # 26047 rows\n",
    "voc.describe()"
   ]
  },
  {
   "cell_type": "code",
   "execution_count": 979,
   "metadata": {},
   "outputs": [
    {
     "name": "stdout",
     "output_type": "stream",
     "text": [
      "<class 'pandas.core.frame.DataFrame'>\n",
      "RangeIndex: 579 entries, 0 to 578\n",
      "Columns: 26048 entries, 1 to 0.24961\n",
      "dtypes: int64(26048)\n",
      "memory usage: 115.1 MB\n",
      "<class 'pandas.core.frame.DataFrame'>\n",
      "RangeIndex: 579 entries, 0 to 578\n",
      "Data columns (total 1 columns):\n",
      "1    579 non-null int64\n",
      "dtypes: int64(1)\n",
      "memory usage: 4.6 KB\n",
      "<class 'pandas.core.frame.DataFrame'>\n",
      "RangeIndex: 144 entries, 0 to 143\n",
      "Columns: 26048 entries, 0 to 0.24958\n",
      "dtypes: int64(26048)\n",
      "memory usage: 28.6 MB\n",
      "<class 'pandas.core.frame.DataFrame'>\n",
      "RangeIndex: 144 entries, 0 to 143\n",
      "Data columns (total 1 columns):\n",
      "1    144 non-null int64\n",
      "dtypes: int64(1)\n",
      "memory usage: 1.2 KB\n"
     ]
    },
    {
     "data": {
      "text/plain": [
       "144"
      ]
     },
     "execution_count": 979,
     "metadata": {},
     "output_type": "execute_result"
    }
   ],
   "source": [
    "xtrain.info()\n",
    "len(xtrain) # 579 rows\n",
    "ytrain.info()\n",
    "len(ytrain) # 579 rows\n",
    "xtest.info()\n",
    "len(xtest) # 144 rows\n",
    "ytest.info()\n",
    "len(ytest) # 144 rows"
   ]
  },
  {
   "cell_type": "code",
   "execution_count": 983,
   "metadata": {
    "scrolled": false
   },
   "outputs": [
    {
     "data": {
      "text/html": [
       "<div>\n",
       "<style>\n",
       "    .dataframe thead tr:only-child th {\n",
       "        text-align: right;\n",
       "    }\n",
       "\n",
       "    .dataframe thead th {\n",
       "        text-align: left;\n",
       "    }\n",
       "\n",
       "    .dataframe tbody tr th {\n",
       "        vertical-align: top;\n",
       "    }\n",
       "</style>\n",
       "<table border=\"1\" class=\"dataframe\">\n",
       "  <thead>\n",
       "    <tr style=\"text-align: right;\">\n",
       "      <th></th>\n",
       "      <th>1</th>\n",
       "      <th>1.1</th>\n",
       "      <th>0</th>\n",
       "      <th>0.1</th>\n",
       "      <th>0.2</th>\n",
       "      <th>0.3</th>\n",
       "      <th>0.4</th>\n",
       "      <th>0.5</th>\n",
       "      <th>1.2</th>\n",
       "      <th>0.6</th>\n",
       "      <th>...</th>\n",
       "      <th>0.24953</th>\n",
       "      <th>0.24954</th>\n",
       "      <th>0.24955</th>\n",
       "      <th>0.24956</th>\n",
       "      <th>0.24957</th>\n",
       "      <th>1.1085</th>\n",
       "      <th>0.24958</th>\n",
       "      <th>0.24959</th>\n",
       "      <th>0.24960</th>\n",
       "      <th>0.24961</th>\n",
       "    </tr>\n",
       "  </thead>\n",
       "  <tbody>\n",
       "    <tr>\n",
       "      <th>count</th>\n",
       "      <td>579.000000</td>\n",
       "      <td>579.000000</td>\n",
       "      <td>579.000000</td>\n",
       "      <td>579.000000</td>\n",
       "      <td>579.000000</td>\n",
       "      <td>579.000000</td>\n",
       "      <td>579.000000</td>\n",
       "      <td>579.000000</td>\n",
       "      <td>579.000000</td>\n",
       "      <td>579.000000</td>\n",
       "      <td>...</td>\n",
       "      <td>579.000000</td>\n",
       "      <td>579.000000</td>\n",
       "      <td>579.000000</td>\n",
       "      <td>579.000000</td>\n",
       "      <td>579.000000</td>\n",
       "      <td>579.000000</td>\n",
       "      <td>579.000000</td>\n",
       "      <td>579.000000</td>\n",
       "      <td>579.000000</td>\n",
       "      <td>579.000000</td>\n",
       "    </tr>\n",
       "    <tr>\n",
       "      <th>mean</th>\n",
       "      <td>0.604491</td>\n",
       "      <td>0.941278</td>\n",
       "      <td>0.329879</td>\n",
       "      <td>0.098446</td>\n",
       "      <td>0.065630</td>\n",
       "      <td>0.053541</td>\n",
       "      <td>0.537133</td>\n",
       "      <td>0.269430</td>\n",
       "      <td>0.082902</td>\n",
       "      <td>0.259067</td>\n",
       "      <td>...</td>\n",
       "      <td>0.015544</td>\n",
       "      <td>0.027634</td>\n",
       "      <td>0.044905</td>\n",
       "      <td>0.024180</td>\n",
       "      <td>0.027634</td>\n",
       "      <td>0.024180</td>\n",
       "      <td>0.027634</td>\n",
       "      <td>0.025907</td>\n",
       "      <td>0.032815</td>\n",
       "      <td>0.032815</td>\n",
       "    </tr>\n",
       "    <tr>\n",
       "      <th>std</th>\n",
       "      <td>0.489383</td>\n",
       "      <td>0.235307</td>\n",
       "      <td>0.470576</td>\n",
       "      <td>0.298174</td>\n",
       "      <td>0.247849</td>\n",
       "      <td>0.225303</td>\n",
       "      <td>0.499050</td>\n",
       "      <td>0.444047</td>\n",
       "      <td>0.275972</td>\n",
       "      <td>0.438501</td>\n",
       "      <td>...</td>\n",
       "      <td>0.123810</td>\n",
       "      <td>0.164063</td>\n",
       "      <td>0.207275</td>\n",
       "      <td>0.153739</td>\n",
       "      <td>0.164063</td>\n",
       "      <td>0.153739</td>\n",
       "      <td>0.164063</td>\n",
       "      <td>0.158994</td>\n",
       "      <td>0.178307</td>\n",
       "      <td>0.178307</td>\n",
       "    </tr>\n",
       "    <tr>\n",
       "      <th>min</th>\n",
       "      <td>0.000000</td>\n",
       "      <td>0.000000</td>\n",
       "      <td>0.000000</td>\n",
       "      <td>0.000000</td>\n",
       "      <td>0.000000</td>\n",
       "      <td>0.000000</td>\n",
       "      <td>0.000000</td>\n",
       "      <td>0.000000</td>\n",
       "      <td>0.000000</td>\n",
       "      <td>0.000000</td>\n",
       "      <td>...</td>\n",
       "      <td>0.000000</td>\n",
       "      <td>0.000000</td>\n",
       "      <td>0.000000</td>\n",
       "      <td>0.000000</td>\n",
       "      <td>0.000000</td>\n",
       "      <td>0.000000</td>\n",
       "      <td>0.000000</td>\n",
       "      <td>0.000000</td>\n",
       "      <td>0.000000</td>\n",
       "      <td>0.000000</td>\n",
       "    </tr>\n",
       "    <tr>\n",
       "      <th>25%</th>\n",
       "      <td>0.000000</td>\n",
       "      <td>1.000000</td>\n",
       "      <td>0.000000</td>\n",
       "      <td>0.000000</td>\n",
       "      <td>0.000000</td>\n",
       "      <td>0.000000</td>\n",
       "      <td>0.000000</td>\n",
       "      <td>0.000000</td>\n",
       "      <td>0.000000</td>\n",
       "      <td>0.000000</td>\n",
       "      <td>...</td>\n",
       "      <td>0.000000</td>\n",
       "      <td>0.000000</td>\n",
       "      <td>0.000000</td>\n",
       "      <td>0.000000</td>\n",
       "      <td>0.000000</td>\n",
       "      <td>0.000000</td>\n",
       "      <td>0.000000</td>\n",
       "      <td>0.000000</td>\n",
       "      <td>0.000000</td>\n",
       "      <td>0.000000</td>\n",
       "    </tr>\n",
       "    <tr>\n",
       "      <th>50%</th>\n",
       "      <td>1.000000</td>\n",
       "      <td>1.000000</td>\n",
       "      <td>0.000000</td>\n",
       "      <td>0.000000</td>\n",
       "      <td>0.000000</td>\n",
       "      <td>0.000000</td>\n",
       "      <td>1.000000</td>\n",
       "      <td>0.000000</td>\n",
       "      <td>0.000000</td>\n",
       "      <td>0.000000</td>\n",
       "      <td>...</td>\n",
       "      <td>0.000000</td>\n",
       "      <td>0.000000</td>\n",
       "      <td>0.000000</td>\n",
       "      <td>0.000000</td>\n",
       "      <td>0.000000</td>\n",
       "      <td>0.000000</td>\n",
       "      <td>0.000000</td>\n",
       "      <td>0.000000</td>\n",
       "      <td>0.000000</td>\n",
       "      <td>0.000000</td>\n",
       "    </tr>\n",
       "    <tr>\n",
       "      <th>75%</th>\n",
       "      <td>1.000000</td>\n",
       "      <td>1.000000</td>\n",
       "      <td>1.000000</td>\n",
       "      <td>0.000000</td>\n",
       "      <td>0.000000</td>\n",
       "      <td>0.000000</td>\n",
       "      <td>1.000000</td>\n",
       "      <td>1.000000</td>\n",
       "      <td>0.000000</td>\n",
       "      <td>1.000000</td>\n",
       "      <td>...</td>\n",
       "      <td>0.000000</td>\n",
       "      <td>0.000000</td>\n",
       "      <td>0.000000</td>\n",
       "      <td>0.000000</td>\n",
       "      <td>0.000000</td>\n",
       "      <td>0.000000</td>\n",
       "      <td>0.000000</td>\n",
       "      <td>0.000000</td>\n",
       "      <td>0.000000</td>\n",
       "      <td>0.000000</td>\n",
       "    </tr>\n",
       "    <tr>\n",
       "      <th>max</th>\n",
       "      <td>1.000000</td>\n",
       "      <td>1.000000</td>\n",
       "      <td>1.000000</td>\n",
       "      <td>1.000000</td>\n",
       "      <td>1.000000</td>\n",
       "      <td>1.000000</td>\n",
       "      <td>1.000000</td>\n",
       "      <td>1.000000</td>\n",
       "      <td>1.000000</td>\n",
       "      <td>1.000000</td>\n",
       "      <td>...</td>\n",
       "      <td>1.000000</td>\n",
       "      <td>1.000000</td>\n",
       "      <td>1.000000</td>\n",
       "      <td>1.000000</td>\n",
       "      <td>1.000000</td>\n",
       "      <td>1.000000</td>\n",
       "      <td>1.000000</td>\n",
       "      <td>1.000000</td>\n",
       "      <td>1.000000</td>\n",
       "      <td>1.000000</td>\n",
       "    </tr>\n",
       "  </tbody>\n",
       "</table>\n",
       "<p>8 rows × 26048 columns</p>\n",
       "</div>"
      ],
      "text/plain": [
       "                1         1.1           0         0.1         0.2         0.3  \\\n",
       "count  579.000000  579.000000  579.000000  579.000000  579.000000  579.000000   \n",
       "mean     0.604491    0.941278    0.329879    0.098446    0.065630    0.053541   \n",
       "std      0.489383    0.235307    0.470576    0.298174    0.247849    0.225303   \n",
       "min      0.000000    0.000000    0.000000    0.000000    0.000000    0.000000   \n",
       "25%      0.000000    1.000000    0.000000    0.000000    0.000000    0.000000   \n",
       "50%      1.000000    1.000000    0.000000    0.000000    0.000000    0.000000   \n",
       "75%      1.000000    1.000000    1.000000    0.000000    0.000000    0.000000   \n",
       "max      1.000000    1.000000    1.000000    1.000000    1.000000    1.000000   \n",
       "\n",
       "              0.4         0.5         1.2         0.6     ...         0.24953  \\\n",
       "count  579.000000  579.000000  579.000000  579.000000     ...      579.000000   \n",
       "mean     0.537133    0.269430    0.082902    0.259067     ...        0.015544   \n",
       "std      0.499050    0.444047    0.275972    0.438501     ...        0.123810   \n",
       "min      0.000000    0.000000    0.000000    0.000000     ...        0.000000   \n",
       "25%      0.000000    0.000000    0.000000    0.000000     ...        0.000000   \n",
       "50%      1.000000    0.000000    0.000000    0.000000     ...        0.000000   \n",
       "75%      1.000000    1.000000    0.000000    1.000000     ...        0.000000   \n",
       "max      1.000000    1.000000    1.000000    1.000000     ...        1.000000   \n",
       "\n",
       "          0.24954     0.24955     0.24956     0.24957      1.1085     0.24958  \\\n",
       "count  579.000000  579.000000  579.000000  579.000000  579.000000  579.000000   \n",
       "mean     0.027634    0.044905    0.024180    0.027634    0.024180    0.027634   \n",
       "std      0.164063    0.207275    0.153739    0.164063    0.153739    0.164063   \n",
       "min      0.000000    0.000000    0.000000    0.000000    0.000000    0.000000   \n",
       "25%      0.000000    0.000000    0.000000    0.000000    0.000000    0.000000   \n",
       "50%      0.000000    0.000000    0.000000    0.000000    0.000000    0.000000   \n",
       "75%      0.000000    0.000000    0.000000    0.000000    0.000000    0.000000   \n",
       "max      1.000000    1.000000    1.000000    1.000000    1.000000    1.000000   \n",
       "\n",
       "          0.24959     0.24960     0.24961  \n",
       "count  579.000000  579.000000  579.000000  \n",
       "mean     0.025907    0.032815    0.032815  \n",
       "std      0.158994    0.178307    0.178307  \n",
       "min      0.000000    0.000000    0.000000  \n",
       "25%      0.000000    0.000000    0.000000  \n",
       "50%      0.000000    0.000000    0.000000  \n",
       "75%      0.000000    0.000000    0.000000  \n",
       "max      1.000000    1.000000    1.000000  \n",
       "\n",
       "[8 rows x 26048 columns]"
      ]
     },
     "execution_count": 983,
     "metadata": {},
     "output_type": "execute_result"
    }
   ],
   "source": [
    "xtrain.describe()"
   ]
  },
  {
   "cell_type": "code",
   "execution_count": 985,
   "metadata": {},
   "outputs": [
    {
     "data": {
      "text/html": [
       "<div>\n",
       "<style>\n",
       "    .dataframe thead tr:only-child th {\n",
       "        text-align: right;\n",
       "    }\n",
       "\n",
       "    .dataframe thead th {\n",
       "        text-align: left;\n",
       "    }\n",
       "\n",
       "    .dataframe tbody tr th {\n",
       "        vertical-align: top;\n",
       "    }\n",
       "</style>\n",
       "<table border=\"1\" class=\"dataframe\">\n",
       "  <thead>\n",
       "    <tr style=\"text-align: right;\">\n",
       "      <th></th>\n",
       "      <th>1</th>\n",
       "    </tr>\n",
       "  </thead>\n",
       "  <tbody>\n",
       "    <tr>\n",
       "      <th>count</th>\n",
       "      <td>579.000000</td>\n",
       "    </tr>\n",
       "    <tr>\n",
       "      <th>mean</th>\n",
       "      <td>0.271157</td>\n",
       "    </tr>\n",
       "    <tr>\n",
       "      <th>std</th>\n",
       "      <td>0.444941</td>\n",
       "    </tr>\n",
       "    <tr>\n",
       "      <th>min</th>\n",
       "      <td>0.000000</td>\n",
       "    </tr>\n",
       "    <tr>\n",
       "      <th>25%</th>\n",
       "      <td>0.000000</td>\n",
       "    </tr>\n",
       "    <tr>\n",
       "      <th>50%</th>\n",
       "      <td>0.000000</td>\n",
       "    </tr>\n",
       "    <tr>\n",
       "      <th>75%</th>\n",
       "      <td>1.000000</td>\n",
       "    </tr>\n",
       "    <tr>\n",
       "      <th>max</th>\n",
       "      <td>1.000000</td>\n",
       "    </tr>\n",
       "  </tbody>\n",
       "</table>\n",
       "</div>"
      ],
      "text/plain": [
       "                1\n",
       "count  579.000000\n",
       "mean     0.271157\n",
       "std      0.444941\n",
       "min      0.000000\n",
       "25%      0.000000\n",
       "50%      0.000000\n",
       "75%      1.000000\n",
       "max      1.000000"
      ]
     },
     "execution_count": 985,
     "metadata": {},
     "output_type": "execute_result"
    }
   ],
   "source": [
    "ytrain.describe()"
   ]
  },
  {
   "cell_type": "code",
   "execution_count": 986,
   "metadata": {},
   "outputs": [
    {
     "data": {
      "text/html": [
       "<div>\n",
       "<style>\n",
       "    .dataframe thead tr:only-child th {\n",
       "        text-align: right;\n",
       "    }\n",
       "\n",
       "    .dataframe thead th {\n",
       "        text-align: left;\n",
       "    }\n",
       "\n",
       "    .dataframe tbody tr th {\n",
       "        vertical-align: top;\n",
       "    }\n",
       "</style>\n",
       "<table border=\"1\" class=\"dataframe\">\n",
       "  <thead>\n",
       "    <tr style=\"text-align: right;\">\n",
       "      <th></th>\n",
       "      <th>0</th>\n",
       "      <th>1</th>\n",
       "      <th>1.1</th>\n",
       "      <th>0.1</th>\n",
       "      <th>0.2</th>\n",
       "      <th>0.3</th>\n",
       "      <th>0.4</th>\n",
       "      <th>0.5</th>\n",
       "      <th>0.6</th>\n",
       "      <th>0.7</th>\n",
       "      <th>...</th>\n",
       "      <th>0.24949</th>\n",
       "      <th>0.24950</th>\n",
       "      <th>0.24951</th>\n",
       "      <th>0.24952</th>\n",
       "      <th>0.24953</th>\n",
       "      <th>0.24954</th>\n",
       "      <th>0.24955</th>\n",
       "      <th>0.24956</th>\n",
       "      <th>0.24957</th>\n",
       "      <th>0.24958</th>\n",
       "    </tr>\n",
       "  </thead>\n",
       "  <tbody>\n",
       "    <tr>\n",
       "      <th>count</th>\n",
       "      <td>144.000000</td>\n",
       "      <td>144.000000</td>\n",
       "      <td>144.000000</td>\n",
       "      <td>144.000000</td>\n",
       "      <td>144.000000</td>\n",
       "      <td>144.000000</td>\n",
       "      <td>144.000000</td>\n",
       "      <td>144.000000</td>\n",
       "      <td>144.000000</td>\n",
       "      <td>144.000000</td>\n",
       "      <td>...</td>\n",
       "      <td>144.000000</td>\n",
       "      <td>144.000000</td>\n",
       "      <td>144.000000</td>\n",
       "      <td>144.000000</td>\n",
       "      <td>144.000000</td>\n",
       "      <td>144.000000</td>\n",
       "      <td>144.000000</td>\n",
       "      <td>144.000000</td>\n",
       "      <td>144.000000</td>\n",
       "      <td>144.000000</td>\n",
       "    </tr>\n",
       "    <tr>\n",
       "      <th>mean</th>\n",
       "      <td>0.541667</td>\n",
       "      <td>0.951389</td>\n",
       "      <td>0.319444</td>\n",
       "      <td>0.083333</td>\n",
       "      <td>0.048611</td>\n",
       "      <td>0.055556</td>\n",
       "      <td>0.527778</td>\n",
       "      <td>0.277778</td>\n",
       "      <td>0.097222</td>\n",
       "      <td>0.222222</td>\n",
       "      <td>...</td>\n",
       "      <td>0.020833</td>\n",
       "      <td>0.013889</td>\n",
       "      <td>0.020833</td>\n",
       "      <td>0.027778</td>\n",
       "      <td>0.041667</td>\n",
       "      <td>0.013889</td>\n",
       "      <td>0.027778</td>\n",
       "      <td>0.055556</td>\n",
       "      <td>0.020833</td>\n",
       "      <td>0.034722</td>\n",
       "    </tr>\n",
       "    <tr>\n",
       "      <th>std</th>\n",
       "      <td>0.500000</td>\n",
       "      <td>0.215804</td>\n",
       "      <td>0.467889</td>\n",
       "      <td>0.277350</td>\n",
       "      <td>0.215804</td>\n",
       "      <td>0.229861</td>\n",
       "      <td>0.500970</td>\n",
       "      <td>0.449467</td>\n",
       "      <td>0.297294</td>\n",
       "      <td>0.417191</td>\n",
       "      <td>...</td>\n",
       "      <td>0.143325</td>\n",
       "      <td>0.117438</td>\n",
       "      <td>0.143325</td>\n",
       "      <td>0.164909</td>\n",
       "      <td>0.200524</td>\n",
       "      <td>0.117438</td>\n",
       "      <td>0.164909</td>\n",
       "      <td>0.229861</td>\n",
       "      <td>0.143325</td>\n",
       "      <td>0.183714</td>\n",
       "    </tr>\n",
       "    <tr>\n",
       "      <th>min</th>\n",
       "      <td>0.000000</td>\n",
       "      <td>0.000000</td>\n",
       "      <td>0.000000</td>\n",
       "      <td>0.000000</td>\n",
       "      <td>0.000000</td>\n",
       "      <td>0.000000</td>\n",
       "      <td>0.000000</td>\n",
       "      <td>0.000000</td>\n",
       "      <td>0.000000</td>\n",
       "      <td>0.000000</td>\n",
       "      <td>...</td>\n",
       "      <td>0.000000</td>\n",
       "      <td>0.000000</td>\n",
       "      <td>0.000000</td>\n",
       "      <td>0.000000</td>\n",
       "      <td>0.000000</td>\n",
       "      <td>0.000000</td>\n",
       "      <td>0.000000</td>\n",
       "      <td>0.000000</td>\n",
       "      <td>0.000000</td>\n",
       "      <td>0.000000</td>\n",
       "    </tr>\n",
       "    <tr>\n",
       "      <th>25%</th>\n",
       "      <td>0.000000</td>\n",
       "      <td>1.000000</td>\n",
       "      <td>0.000000</td>\n",
       "      <td>0.000000</td>\n",
       "      <td>0.000000</td>\n",
       "      <td>0.000000</td>\n",
       "      <td>0.000000</td>\n",
       "      <td>0.000000</td>\n",
       "      <td>0.000000</td>\n",
       "      <td>0.000000</td>\n",
       "      <td>...</td>\n",
       "      <td>0.000000</td>\n",
       "      <td>0.000000</td>\n",
       "      <td>0.000000</td>\n",
       "      <td>0.000000</td>\n",
       "      <td>0.000000</td>\n",
       "      <td>0.000000</td>\n",
       "      <td>0.000000</td>\n",
       "      <td>0.000000</td>\n",
       "      <td>0.000000</td>\n",
       "      <td>0.000000</td>\n",
       "    </tr>\n",
       "    <tr>\n",
       "      <th>50%</th>\n",
       "      <td>1.000000</td>\n",
       "      <td>1.000000</td>\n",
       "      <td>0.000000</td>\n",
       "      <td>0.000000</td>\n",
       "      <td>0.000000</td>\n",
       "      <td>0.000000</td>\n",
       "      <td>1.000000</td>\n",
       "      <td>0.000000</td>\n",
       "      <td>0.000000</td>\n",
       "      <td>0.000000</td>\n",
       "      <td>...</td>\n",
       "      <td>0.000000</td>\n",
       "      <td>0.000000</td>\n",
       "      <td>0.000000</td>\n",
       "      <td>0.000000</td>\n",
       "      <td>0.000000</td>\n",
       "      <td>0.000000</td>\n",
       "      <td>0.000000</td>\n",
       "      <td>0.000000</td>\n",
       "      <td>0.000000</td>\n",
       "      <td>0.000000</td>\n",
       "    </tr>\n",
       "    <tr>\n",
       "      <th>75%</th>\n",
       "      <td>1.000000</td>\n",
       "      <td>1.000000</td>\n",
       "      <td>1.000000</td>\n",
       "      <td>0.000000</td>\n",
       "      <td>0.000000</td>\n",
       "      <td>0.000000</td>\n",
       "      <td>1.000000</td>\n",
       "      <td>1.000000</td>\n",
       "      <td>0.000000</td>\n",
       "      <td>0.000000</td>\n",
       "      <td>...</td>\n",
       "      <td>0.000000</td>\n",
       "      <td>0.000000</td>\n",
       "      <td>0.000000</td>\n",
       "      <td>0.000000</td>\n",
       "      <td>0.000000</td>\n",
       "      <td>0.000000</td>\n",
       "      <td>0.000000</td>\n",
       "      <td>0.000000</td>\n",
       "      <td>0.000000</td>\n",
       "      <td>0.000000</td>\n",
       "    </tr>\n",
       "    <tr>\n",
       "      <th>max</th>\n",
       "      <td>1.000000</td>\n",
       "      <td>1.000000</td>\n",
       "      <td>1.000000</td>\n",
       "      <td>1.000000</td>\n",
       "      <td>1.000000</td>\n",
       "      <td>1.000000</td>\n",
       "      <td>1.000000</td>\n",
       "      <td>1.000000</td>\n",
       "      <td>1.000000</td>\n",
       "      <td>1.000000</td>\n",
       "      <td>...</td>\n",
       "      <td>1.000000</td>\n",
       "      <td>1.000000</td>\n",
       "      <td>1.000000</td>\n",
       "      <td>1.000000</td>\n",
       "      <td>1.000000</td>\n",
       "      <td>1.000000</td>\n",
       "      <td>1.000000</td>\n",
       "      <td>1.000000</td>\n",
       "      <td>1.000000</td>\n",
       "      <td>1.000000</td>\n",
       "    </tr>\n",
       "  </tbody>\n",
       "</table>\n",
       "<p>8 rows × 26048 columns</p>\n",
       "</div>"
      ],
      "text/plain": [
       "                0           1         1.1         0.1         0.2         0.3  \\\n",
       "count  144.000000  144.000000  144.000000  144.000000  144.000000  144.000000   \n",
       "mean     0.541667    0.951389    0.319444    0.083333    0.048611    0.055556   \n",
       "std      0.500000    0.215804    0.467889    0.277350    0.215804    0.229861   \n",
       "min      0.000000    0.000000    0.000000    0.000000    0.000000    0.000000   \n",
       "25%      0.000000    1.000000    0.000000    0.000000    0.000000    0.000000   \n",
       "50%      1.000000    1.000000    0.000000    0.000000    0.000000    0.000000   \n",
       "75%      1.000000    1.000000    1.000000    0.000000    0.000000    0.000000   \n",
       "max      1.000000    1.000000    1.000000    1.000000    1.000000    1.000000   \n",
       "\n",
       "              0.4         0.5         0.6         0.7     ...         0.24949  \\\n",
       "count  144.000000  144.000000  144.000000  144.000000     ...      144.000000   \n",
       "mean     0.527778    0.277778    0.097222    0.222222     ...        0.020833   \n",
       "std      0.500970    0.449467    0.297294    0.417191     ...        0.143325   \n",
       "min      0.000000    0.000000    0.000000    0.000000     ...        0.000000   \n",
       "25%      0.000000    0.000000    0.000000    0.000000     ...        0.000000   \n",
       "50%      1.000000    0.000000    0.000000    0.000000     ...        0.000000   \n",
       "75%      1.000000    1.000000    0.000000    0.000000     ...        0.000000   \n",
       "max      1.000000    1.000000    1.000000    1.000000     ...        1.000000   \n",
       "\n",
       "          0.24950     0.24951     0.24952     0.24953     0.24954     0.24955  \\\n",
       "count  144.000000  144.000000  144.000000  144.000000  144.000000  144.000000   \n",
       "mean     0.013889    0.020833    0.027778    0.041667    0.013889    0.027778   \n",
       "std      0.117438    0.143325    0.164909    0.200524    0.117438    0.164909   \n",
       "min      0.000000    0.000000    0.000000    0.000000    0.000000    0.000000   \n",
       "25%      0.000000    0.000000    0.000000    0.000000    0.000000    0.000000   \n",
       "50%      0.000000    0.000000    0.000000    0.000000    0.000000    0.000000   \n",
       "75%      0.000000    0.000000    0.000000    0.000000    0.000000    0.000000   \n",
       "max      1.000000    1.000000    1.000000    1.000000    1.000000    1.000000   \n",
       "\n",
       "          0.24956     0.24957     0.24958  \n",
       "count  144.000000  144.000000  144.000000  \n",
       "mean     0.055556    0.020833    0.034722  \n",
       "std      0.229861    0.143325    0.183714  \n",
       "min      0.000000    0.000000    0.000000  \n",
       "25%      0.000000    0.000000    0.000000  \n",
       "50%      0.000000    0.000000    0.000000  \n",
       "75%      0.000000    0.000000    0.000000  \n",
       "max      1.000000    1.000000    1.000000  \n",
       "\n",
       "[8 rows x 26048 columns]"
      ]
     },
     "execution_count": 986,
     "metadata": {},
     "output_type": "execute_result"
    }
   ],
   "source": [
    "xtest.describe()"
   ]
  },
  {
   "cell_type": "code",
   "execution_count": 987,
   "metadata": {},
   "outputs": [
    {
     "data": {
      "text/html": [
       "<div>\n",
       "<style>\n",
       "    .dataframe thead tr:only-child th {\n",
       "        text-align: right;\n",
       "    }\n",
       "\n",
       "    .dataframe thead th {\n",
       "        text-align: left;\n",
       "    }\n",
       "\n",
       "    .dataframe tbody tr th {\n",
       "        vertical-align: top;\n",
       "    }\n",
       "</style>\n",
       "<table border=\"1\" class=\"dataframe\">\n",
       "  <thead>\n",
       "    <tr style=\"text-align: right;\">\n",
       "      <th></th>\n",
       "      <th>1</th>\n",
       "    </tr>\n",
       "  </thead>\n",
       "  <tbody>\n",
       "    <tr>\n",
       "      <th>count</th>\n",
       "      <td>144.000000</td>\n",
       "    </tr>\n",
       "    <tr>\n",
       "      <th>mean</th>\n",
       "      <td>0.319444</td>\n",
       "    </tr>\n",
       "    <tr>\n",
       "      <th>std</th>\n",
       "      <td>0.467889</td>\n",
       "    </tr>\n",
       "    <tr>\n",
       "      <th>min</th>\n",
       "      <td>0.000000</td>\n",
       "    </tr>\n",
       "    <tr>\n",
       "      <th>25%</th>\n",
       "      <td>0.000000</td>\n",
       "    </tr>\n",
       "    <tr>\n",
       "      <th>50%</th>\n",
       "      <td>0.000000</td>\n",
       "    </tr>\n",
       "    <tr>\n",
       "      <th>75%</th>\n",
       "      <td>1.000000</td>\n",
       "    </tr>\n",
       "    <tr>\n",
       "      <th>max</th>\n",
       "      <td>1.000000</td>\n",
       "    </tr>\n",
       "  </tbody>\n",
       "</table>\n",
       "</div>"
      ],
      "text/plain": [
       "                1\n",
       "count  144.000000\n",
       "mean     0.319444\n",
       "std      0.467889\n",
       "min      0.000000\n",
       "25%      0.000000\n",
       "50%      0.000000\n",
       "75%      1.000000\n",
       "max      1.000000"
      ]
     },
     "execution_count": 987,
     "metadata": {},
     "output_type": "execute_result"
    }
   ],
   "source": [
    "ytest.describe()"
   ]
  },
  {
   "cell_type": "markdown",
   "metadata": {},
   "source": [
    "### 7 a. Fit the Naive Bayes classifier and produce a confusion matrix. Plot the matrix as a heatmap."
   ]
  },
  {
   "cell_type": "code",
   "execution_count": 1099,
   "metadata": {
    "collapsed": true
   },
   "outputs": [],
   "source": [
    "from sklearn.naive_bayes import MultinomialNB\n",
    "nb = MultinomialNB(alpha=0).fit(xtrain, ytrain)\n",
    "predicted = nb.predict(xtest)"
   ]
  },
  {
   "cell_type": "code",
   "execution_count": 1100,
   "metadata": {},
   "outputs": [
    {
     "data": {
      "text/html": [
       "<div>\n",
       "<style>\n",
       "    .dataframe thead tr:only-child th {\n",
       "        text-align: right;\n",
       "    }\n",
       "\n",
       "    .dataframe thead th {\n",
       "        text-align: left;\n",
       "    }\n",
       "\n",
       "    .dataframe tbody tr th {\n",
       "        vertical-align: top;\n",
       "    }\n",
       "</style>\n",
       "<table border=\"1\" class=\"dataframe\">\n",
       "  <thead>\n",
       "    <tr style=\"text-align: right;\">\n",
       "      <th></th>\n",
       "      <th>predicted</th>\n",
       "      <th>actual</th>\n",
       "    </tr>\n",
       "  </thead>\n",
       "  <tbody>\n",
       "    <tr>\n",
       "      <th>0</th>\n",
       "      <td>0</td>\n",
       "      <td>1</td>\n",
       "    </tr>\n",
       "    <tr>\n",
       "      <th>1</th>\n",
       "      <td>0</td>\n",
       "      <td>1</td>\n",
       "    </tr>\n",
       "    <tr>\n",
       "      <th>2</th>\n",
       "      <td>0</td>\n",
       "      <td>0</td>\n",
       "    </tr>\n",
       "    <tr>\n",
       "      <th>3</th>\n",
       "      <td>0</td>\n",
       "      <td>0</td>\n",
       "    </tr>\n",
       "    <tr>\n",
       "      <th>4</th>\n",
       "      <td>0</td>\n",
       "      <td>0</td>\n",
       "    </tr>\n",
       "  </tbody>\n",
       "</table>\n",
       "</div>"
      ],
      "text/plain": [
       "   predicted  actual\n",
       "0          0       1\n",
       "1          0       1\n",
       "2          0       0\n",
       "3          0       0\n",
       "4          0       0"
      ]
     },
     "execution_count": 1100,
     "metadata": {},
     "output_type": "execute_result"
    }
   ],
   "source": [
    "p = pd.DataFrame(predicted)\n",
    "p = p.join(ytest)\n",
    "p.columns = ['predicted', 'actual']\n",
    "p.head()"
   ]
  },
  {
   "cell_type": "code",
   "execution_count": 1101,
   "metadata": {
    "collapsed": true
   },
   "outputs": [],
   "source": [
    "from sklearn.metrics import confusion_matrix"
   ]
  },
  {
   "cell_type": "code",
   "execution_count": 1102,
   "metadata": {
    "collapsed": true
   },
   "outputs": [],
   "source": [
    "cm = confusion_matrix(p.actual, p.predicted)"
   ]
  },
  {
   "cell_type": "code",
   "execution_count": 1159,
   "metadata": {},
   "outputs": [
    {
     "data": {
      "text/plain": [
       "Text(0.5,1,'Confusion matrix without Laplacian smoothing')"
      ]
     },
     "execution_count": 1159,
     "metadata": {},
     "output_type": "execute_result"
    },
    {
     "data": {
      "image/png": "[encoded data removed]",
      "text/plain": [
       "<matplotlib.figure.Figure at 0x1c50caa630>"
      ]
     },
     "metadata": {},
     "output_type": "display_data"
    }
   ],
   "source": [
    "sns.heatmap(cm, cmap='Blues' , annot = True)\n",
    "plt.ylabel('True label')\n",
    "plt.xlabel('Predicted label')\n",
    "plt.title('Confusion matrix without Laplacian smoothing')"
   ]
  },
  {
   "cell_type": "markdown",
   "metadata": {},
   "source": [
    "### 7 b. Calculate the precision and recall with The Onion as the positive class"
   ]
  },
  {
   "cell_type": "code",
   "execution_count": 1117,
   "metadata": {},
   "outputs": [
    {
     "name": "stdout",
     "output_type": "stream",
     "text": [
      "Precision is 1.0\n",
      "Recall is 0.0217391304348\n"
     ]
    }
   ],
   "source": [
    "tp = cm[1,1]\n",
    "fp = cm[0,1]\n",
    "tn = cm[0,0]\n",
    "fn = cm[1,0]\n",
    "precision = tp/(tp+fp)\n",
    "recall = tp/(tp+fn)\n",
    "print('Precision is',precision)\n",
    "print('Recall is',recall)"
   ]
  },
  {
   "cell_type": "markdown",
   "metadata": {},
   "source": [
    "### 7 c. Calculate the precision and recall with The Economist as the positive class"
   ]
  },
  {
   "cell_type": "code",
   "execution_count": 1118,
   "metadata": {},
   "outputs": [
    {
     "name": "stdout",
     "output_type": "stream",
     "text": [
      "Precision is 0.685314685315\n",
      "Recall is 1.0\n"
     ]
    }
   ],
   "source": [
    "tp_e = cm[0,0]\n",
    "fp_e = cm[1,0]\n",
    "tn_e = cm[1,1]\n",
    "fn_e = cm[0,1]\n",
    "precision_e = tp_e/(tp_e+fp_e)\n",
    "recall_e = tp_e/(tp_e+fn_e)\n",
    "print('Precision is',precision_e)\n",
    "print('Recall is',recall_e)"
   ]
  },
  {
   "cell_type": "markdown",
   "metadata": {},
   "source": [
    "### 7 d. Misclassification rate of Naive Bayes"
   ]
  },
  {
   "cell_type": "code",
   "execution_count": 1119,
   "metadata": {},
   "outputs": [
    {
     "data": {
      "text/plain": [
       "0.3125"
      ]
     },
     "execution_count": 1119,
     "metadata": {},
     "output_type": "execute_result"
    }
   ],
   "source": [
    "# The Onion is positive\n",
    "misclassification_o = (fp+fn)/(fp+fn+tp+tn)\n",
    "misclassification_o "
   ]
  },
  {
   "cell_type": "code",
   "execution_count": 1127,
   "metadata": {},
   "outputs": [
    {
     "name": "stdout",
     "output_type": "stream",
     "text": [
      "Misclassification rate is 0.3125\n"
     ]
    }
   ],
   "source": [
    "# The Economist is positive\n",
    "misclassification_e = (fp_e+fn_e)/(fp_e+fn_e+tp_e+tn_e)\n",
    "print('Misclassification rate is', misclassification_e)"
   ]
  },
  {
   "cell_type": "markdown",
   "metadata": {},
   "source": [
    "### 7 e.  Misclassification rate with Laplacian smoothing of 1.0"
   ]
  },
  {
   "cell_type": "code",
   "execution_count": 1121,
   "metadata": {
    "collapsed": true
   },
   "outputs": [],
   "source": [
    "nbs = MultinomialNB(alpha = 1.0).fit(xtrain, ytrain)\n",
    "predicteds = nbs.predict(xtest)"
   ]
  },
  {
   "cell_type": "code",
   "execution_count": 1122,
   "metadata": {
    "collapsed": true
   },
   "outputs": [],
   "source": [
    "ps = pd.DataFrame(predicteds)\n",
    "ps = ps.join(ytest)\n",
    "ps.columns = ['predicted', 'actual']"
   ]
  },
  {
   "cell_type": "code",
   "execution_count": 1123,
   "metadata": {
    "collapsed": true
   },
   "outputs": [],
   "source": [
    "cms = confusion_matrix(ps.actual, ps.predicted)"
   ]
  },
  {
   "cell_type": "code",
   "execution_count": 1157,
   "metadata": {},
   "outputs": [
    {
     "data": {
      "text/plain": [
       "Text(0.5,1,'Confusion matrix with Laplacian smoothing of 1.0')"
      ]
     },
     "execution_count": 1157,
     "metadata": {},
     "output_type": "execute_result"
    },
    {
     "data": {
      "image/png": "[encoded data removed]",
      "text/plain": [
       "<matplotlib.figure.Figure at 0x1c546d9f98>"
      ]
     },
     "metadata": {},
     "output_type": "display_data"
    }
   ],
   "source": [
    "sns.heatmap(cms, cmap='Reds', annot=True)\n",
    "plt.ylabel('True label')\n",
    "plt.xlabel('Predicted label')\n",
    "plt.title('Confusion matrix with Laplacian smoothing of 1.0')"
   ]
  },
  {
   "cell_type": "code",
   "execution_count": 1126,
   "metadata": {},
   "outputs": [
    {
     "name": "stdout",
     "output_type": "stream",
     "text": [
      "Misclassification rate is 0.166666666667\n"
     ]
    }
   ],
   "source": [
    "tps = cms[1,1]\n",
    "fps = cms[0,1]\n",
    "tns = cms[0,0]\n",
    "fns = cms[1,0]\n",
    "misclassification= (fps+fns)/(fps+fns+tps+tns)\n",
    "print(\"Misclassification rate is\",misclassification)"
   ]
  },
  {
   "cell_type": "markdown",
   "metadata": {},
   "source": [
    "### 7 f.  The true class and predicted class of the 45th observation. The estimated posterior probability for the 45th observation according to Naive Bayes."
   ]
  },
  {
   "cell_type": "code",
   "execution_count": 1179,
   "metadata": {},
   "outputs": [
    {
     "name": "stdout",
     "output_type": "stream",
     "text": [
      "    predicted  actual\n",
      "44          0       1\n",
      "    predicted  actual\n",
      "44          0       1\n"
     ]
    }
   ],
   "source": [
    "#Posterior probability: the probability that a particular object belongs to class i given its observed feature values\n",
    "print(p[44:45])\n",
    "print(p[44:45])\n",
    "# We access the 44th row in the dataframe since the index starts from 0. Therefore, the 44th row is the 45th observation."
   ]
  },
  {
   "cell_type": "markdown",
   "metadata": {},
   "source": [
    "The true class of the 45th observation is 1, which is The Onion. On the other hand, the predicted class of the same observation is 0, which is The Economist."
   ]
  },
  {
   "cell_type": "code",
   "execution_count": 1180,
   "metadata": {},
   "outputs": [
    {
     "data": {
      "text/plain": [
       "array([[  1.00000000e+00,   6.51647421e-43]])"
      ]
     },
     "execution_count": 1180,
     "metadata": {},
     "output_type": "execute_result"
    }
   ],
   "source": [
    "nb.predict_proba(xtest[44:45])"
   ]
  },
  {
   "cell_type": "markdown",
   "metadata": {},
   "source": [
    "In the Naive Bayes without Laplacian smoothing, the posterior of the 45th observation being The Economist and The Onion is 1.00000000e+00 and 6.51647421e-43 respectively."
   ]
  },
  {
   "cell_type": "code",
   "execution_count": 1181,
   "metadata": {},
   "outputs": [
    {
     "data": {
      "text/plain": [
       "array([[ 0.99875009,  0.00124991]])"
      ]
     },
     "execution_count": 1181,
     "metadata": {},
     "output_type": "execute_result"
    }
   ],
   "source": [
    "nbs.predict_proba(xtest[44:45])"
   ]
  },
  {
   "cell_type": "markdown",
   "metadata": {},
   "source": [
    "In the Naive Bayes with Laplacian smoothing of 1.0, the posterior of the 45th observation being The Economist and The Onion is 0.99875009 and 0.00124991 respectively."
   ]
  }
 ],
 "metadata": {
  "kernelspec": {
   "display_name": "Python 3",
   "language": "python",
   "name": "python3"
  },
  "language_info": {
   "codemirror_mode": {
    "name": "ipython",
    "version": 3
   },
   "file_extension": ".py",
   "mimetype": "text/x-python",
   "name": "python",
   "nbconvert_exporter": "python",
   "pygments_lexer": "ipython3",
   "version": "3.6.3"
  }
 },
 "nbformat": 4,
 "nbformat_minor": 2
}
